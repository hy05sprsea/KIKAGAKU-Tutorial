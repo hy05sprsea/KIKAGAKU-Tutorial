{
  "nbformat": 4,
  "nbformat_minor": 0,
  "metadata": {
    "colab": {
      "name": "KIKAGAKU-ニューラルネットワークの実装(分類).ipynb",
      "provenance": [],
      "authorship_tag": "ABX9TyMiH+dl7JqrWTZF8Zbqa6eG",
      "include_colab_link": true
    },
    "kernelspec": {
      "name": "python3",
      "display_name": "Python 3"
    }
  },
  "cells": [
    {
      "cell_type": "markdown",
      "metadata": {
        "id": "view-in-github",
        "colab_type": "text"
      },
      "source": [
        "<a href=\"https://colab.research.google.com/github/hy05sprsea/KIKAGAKU-Tutorial/blob/master/KIKAGAKU_%E3%83%8B%E3%83%A5%E3%83%BC%E3%83%A9%E3%83%AB%E3%83%8D%E3%83%83%E3%83%88%E3%83%AF%E3%83%BC%E3%82%AF%E3%81%AE%E5%AE%9F%E8%A3%85(%E5%88%86%E9%A1%9E).ipynb\" target=\"_parent\"><img src=\"https://colab.research.google.com/assets/colab-badge.svg\" alt=\"Open In Colab\"/></a>"
      ]
    },
    {
      "cell_type": "code",
      "metadata": {
        "id": "29K1ItVj5rlY",
        "colab_type": "code",
        "colab": {}
      },
      "source": [
        "import tensorflow as tf"
      ],
      "execution_count": 1,
      "outputs": []
    },
    {
      "cell_type": "code",
      "metadata": {
        "id": "Zb7GI9WwRZrH",
        "colab_type": "code",
        "colab": {
          "base_uri": "https://localhost:8080/",
          "height": 35
        },
        "outputId": "c2ceab7e-b85e-440e-8d9a-93ccf2e01402"
      },
      "source": [
        "print(tf.__version__)"
      ],
      "execution_count": 2,
      "outputs": [
        {
          "output_type": "stream",
          "text": [
            "2.2.0\n"
          ],
          "name": "stdout"
        }
      ]
    },
    {
      "cell_type": "code",
      "metadata": {
        "id": "2hbj1UEERgdG",
        "colab_type": "code",
        "colab": {}
      },
      "source": [
        "import numpy as np\n",
        "import pandas as pd\n",
        "import matplotlib.pyplot as plt"
      ],
      "execution_count": 3,
      "outputs": []
    },
    {
      "cell_type": "code",
      "metadata": {
        "id": "REz2J0e6Tj07",
        "colab_type": "code",
        "colab": {
          "base_uri": "https://localhost:8080/",
          "height": 138
        },
        "outputId": "427ce9fa-7acc-421c-f689-db92e0d604fd"
      },
      "source": [
        "df = pd.read_csv('wine_class.csv')\n",
        "df.head(3)"
      ],
      "execution_count": 4,
      "outputs": [
        {
          "output_type": "execute_result",
          "data": {
            "text/html": [
              "<div>\n",
              "<style scoped>\n",
              "    .dataframe tbody tr th:only-of-type {\n",
              "        vertical-align: middle;\n",
              "    }\n",
              "\n",
              "    .dataframe tbody tr th {\n",
              "        vertical-align: top;\n",
              "    }\n",
              "\n",
              "    .dataframe thead th {\n",
              "        text-align: right;\n",
              "    }\n",
              "</style>\n",
              "<table border=\"1\" class=\"dataframe\">\n",
              "  <thead>\n",
              "    <tr style=\"text-align: right;\">\n",
              "      <th></th>\n",
              "      <th>Class</th>\n",
              "      <th>Alcohol</th>\n",
              "      <th>Ash</th>\n",
              "      <th>Alcalinity of ash</th>\n",
              "      <th>Magnesium</th>\n",
              "      <th>Total phenols</th>\n",
              "      <th>Flavanoids</th>\n",
              "      <th>Nonflavanoid phenols</th>\n",
              "      <th>Color intensity</th>\n",
              "      <th>Hue</th>\n",
              "      <th>Proline</th>\n",
              "    </tr>\n",
              "  </thead>\n",
              "  <tbody>\n",
              "    <tr>\n",
              "      <th>0</th>\n",
              "      <td>1</td>\n",
              "      <td>14.23</td>\n",
              "      <td>2.43</td>\n",
              "      <td>15.6</td>\n",
              "      <td>127</td>\n",
              "      <td>2.80</td>\n",
              "      <td>3.06</td>\n",
              "      <td>0.28</td>\n",
              "      <td>5.64</td>\n",
              "      <td>1.04</td>\n",
              "      <td>1065</td>\n",
              "    </tr>\n",
              "    <tr>\n",
              "      <th>1</th>\n",
              "      <td>1</td>\n",
              "      <td>13.20</td>\n",
              "      <td>2.14</td>\n",
              "      <td>11.2</td>\n",
              "      <td>100</td>\n",
              "      <td>2.65</td>\n",
              "      <td>2.76</td>\n",
              "      <td>0.26</td>\n",
              "      <td>4.38</td>\n",
              "      <td>1.05</td>\n",
              "      <td>1050</td>\n",
              "    </tr>\n",
              "    <tr>\n",
              "      <th>2</th>\n",
              "      <td>1</td>\n",
              "      <td>13.16</td>\n",
              "      <td>2.67</td>\n",
              "      <td>18.6</td>\n",
              "      <td>101</td>\n",
              "      <td>2.80</td>\n",
              "      <td>3.24</td>\n",
              "      <td>0.30</td>\n",
              "      <td>5.68</td>\n",
              "      <td>1.03</td>\n",
              "      <td>1185</td>\n",
              "    </tr>\n",
              "  </tbody>\n",
              "</table>\n",
              "</div>"
            ],
            "text/plain": [
              "   Class  Alcohol   Ash  ...  Color intensity   Hue  Proline\n",
              "0      1    14.23  2.43  ...             5.64  1.04     1065\n",
              "1      1    13.20  2.14  ...             4.38  1.05     1050\n",
              "2      1    13.16  2.67  ...             5.68  1.03     1185\n",
              "\n",
              "[3 rows x 11 columns]"
            ]
          },
          "metadata": {
            "tags": []
          },
          "execution_count": 4
        }
      ]
    },
    {
      "cell_type": "code",
      "metadata": {
        "id": "YJ2nM7yHUhsH",
        "colab_type": "code",
        "colab": {}
      },
      "source": [
        "# 目的変数\n",
        "t = df['Class']\n",
        "# 入力変数\n",
        "x = df.drop('Class', axis=1)"
      ],
      "execution_count": 7,
      "outputs": []
    },
    {
      "cell_type": "code",
      "metadata": {
        "id": "X5Ta52ecUwhD",
        "colab_type": "code",
        "colab": {
          "base_uri": "https://localhost:8080/",
          "height": 138
        },
        "outputId": "027cbb88-27e3-44c7-ce25-1f8afd08010f"
      },
      "source": [
        "x.head(3)"
      ],
      "execution_count": 6,
      "outputs": [
        {
          "output_type": "execute_result",
          "data": {
            "text/html": [
              "<div>\n",
              "<style scoped>\n",
              "    .dataframe tbody tr th:only-of-type {\n",
              "        vertical-align: middle;\n",
              "    }\n",
              "\n",
              "    .dataframe tbody tr th {\n",
              "        vertical-align: top;\n",
              "    }\n",
              "\n",
              "    .dataframe thead th {\n",
              "        text-align: right;\n",
              "    }\n",
              "</style>\n",
              "<table border=\"1\" class=\"dataframe\">\n",
              "  <thead>\n",
              "    <tr style=\"text-align: right;\">\n",
              "      <th></th>\n",
              "      <th>Alcohol</th>\n",
              "      <th>Ash</th>\n",
              "      <th>Alcalinity of ash</th>\n",
              "      <th>Magnesium</th>\n",
              "      <th>Total phenols</th>\n",
              "      <th>Flavanoids</th>\n",
              "      <th>Nonflavanoid phenols</th>\n",
              "      <th>Color intensity</th>\n",
              "      <th>Hue</th>\n",
              "      <th>Proline</th>\n",
              "    </tr>\n",
              "  </thead>\n",
              "  <tbody>\n",
              "    <tr>\n",
              "      <th>0</th>\n",
              "      <td>14.23</td>\n",
              "      <td>2.43</td>\n",
              "      <td>15.6</td>\n",
              "      <td>127</td>\n",
              "      <td>2.80</td>\n",
              "      <td>3.06</td>\n",
              "      <td>0.28</td>\n",
              "      <td>5.64</td>\n",
              "      <td>1.04</td>\n",
              "      <td>1065</td>\n",
              "    </tr>\n",
              "    <tr>\n",
              "      <th>1</th>\n",
              "      <td>13.20</td>\n",
              "      <td>2.14</td>\n",
              "      <td>11.2</td>\n",
              "      <td>100</td>\n",
              "      <td>2.65</td>\n",
              "      <td>2.76</td>\n",
              "      <td>0.26</td>\n",
              "      <td>4.38</td>\n",
              "      <td>1.05</td>\n",
              "      <td>1050</td>\n",
              "    </tr>\n",
              "    <tr>\n",
              "      <th>2</th>\n",
              "      <td>13.16</td>\n",
              "      <td>2.67</td>\n",
              "      <td>18.6</td>\n",
              "      <td>101</td>\n",
              "      <td>2.80</td>\n",
              "      <td>3.24</td>\n",
              "      <td>0.30</td>\n",
              "      <td>5.68</td>\n",
              "      <td>1.03</td>\n",
              "      <td>1185</td>\n",
              "    </tr>\n",
              "  </tbody>\n",
              "</table>\n",
              "</div>"
            ],
            "text/plain": [
              "   Alcohol   Ash  Alcalinity of ash  ...  Color intensity   Hue  Proline\n",
              "0    14.23  2.43               15.6  ...             5.64  1.04     1065\n",
              "1    13.20  2.14               11.2  ...             4.38  1.05     1050\n",
              "2    13.16  2.67               18.6  ...             5.68  1.03     1185\n",
              "\n",
              "[3 rows x 10 columns]"
            ]
          },
          "metadata": {
            "tags": []
          },
          "execution_count": 6
        }
      ]
    },
    {
      "cell_type": "code",
      "metadata": {
        "id": "E-2lMKGDUyrc",
        "colab_type": "code",
        "colab": {
          "base_uri": "https://localhost:8080/",
          "height": 35
        },
        "outputId": "f2a40d66-e0a1-44be-865e-804de83c6e62"
      },
      "source": [
        "# 形の確認\n",
        "x.shape"
      ],
      "execution_count": 8,
      "outputs": [
        {
          "output_type": "execute_result",
          "data": {
            "text/plain": [
              "(178, 10)"
            ]
          },
          "metadata": {
            "tags": []
          },
          "execution_count": 8
        }
      ]
    },
    {
      "cell_type": "code",
      "metadata": {
        "id": "4HdUy26tU8JA",
        "colab_type": "code",
        "colab": {
          "base_uri": "https://localhost:8080/",
          "height": 35
        },
        "outputId": "4078bf1f-7048-417c-d792-8aa16921cd8f"
      },
      "source": [
        "type(x)"
      ],
      "execution_count": 9,
      "outputs": [
        {
          "output_type": "execute_result",
          "data": {
            "text/plain": [
              "pandas.core.frame.DataFrame"
            ]
          },
          "metadata": {
            "tags": []
          },
          "execution_count": 9
        }
      ]
    },
    {
      "cell_type": "code",
      "metadata": {
        "id": "3yWJNWw5VIkc",
        "colab_type": "code",
        "colab": {
          "base_uri": "https://localhost:8080/",
          "height": 35
        },
        "outputId": "d8ed2883-7e33-478a-fe7e-7c8520180217"
      },
      "source": [
        "type(x.values)"
      ],
      "execution_count": 10,
      "outputs": [
        {
          "output_type": "execute_result",
          "data": {
            "text/plain": [
              "numpy.ndarray"
            ]
          },
          "metadata": {
            "tags": []
          },
          "execution_count": 10
        }
      ]
    },
    {
      "cell_type": "code",
      "metadata": {
        "id": "_FiV9iyKVNym",
        "colab_type": "code",
        "colab": {
          "base_uri": "https://localhost:8080/",
          "height": 35
        },
        "outputId": "919efaf1-037a-4018-ad5f-65b368030070"
      },
      "source": [
        "np.unique(t)"
      ],
      "execution_count": 13,
      "outputs": [
        {
          "output_type": "execute_result",
          "data": {
            "text/plain": [
              "array([1, 2, 3])"
            ]
          },
          "metadata": {
            "tags": []
          },
          "execution_count": 13
        }
      ]
    },
    {
      "cell_type": "code",
      "metadata": {
        "id": "w9Dt1q36VT4N",
        "colab_type": "code",
        "colab": {}
      },
      "source": [
        "t = t.values - 1\n",
        "x = x.values"
      ],
      "execution_count": 14,
      "outputs": []
    },
    {
      "cell_type": "code",
      "metadata": {
        "id": "gEgroVpjVcp1",
        "colab_type": "code",
        "colab": {
          "base_uri": "https://localhost:8080/",
          "height": 35
        },
        "outputId": "ce2315bc-2ac2-4f39-eedc-19f3f8aefb2b"
      },
      "source": [
        "type(t)"
      ],
      "execution_count": 16,
      "outputs": [
        {
          "output_type": "execute_result",
          "data": {
            "text/plain": [
              "numpy.ndarray"
            ]
          },
          "metadata": {
            "tags": []
          },
          "execution_count": 16
        }
      ]
    },
    {
      "cell_type": "code",
      "metadata": {
        "id": "b3eCfl3rVeoq",
        "colab_type": "code",
        "colab": {
          "base_uri": "https://localhost:8080/",
          "height": 181
        },
        "outputId": "8e9f4249-a4ce-4fa8-f2b8-882404156ffe"
      },
      "source": [
        "t"
      ],
      "execution_count": 17,
      "outputs": [
        {
          "output_type": "execute_result",
          "data": {
            "text/plain": [
              "array([0, 0, 0, 0, 0, 0, 0, 0, 0, 0, 0, 0, 0, 0, 0, 0, 0, 0, 0, 0, 0, 0,\n",
              "       0, 0, 0, 0, 0, 0, 0, 0, 0, 0, 0, 0, 0, 0, 0, 0, 0, 0, 0, 0, 0, 0,\n",
              "       0, 0, 0, 0, 0, 0, 0, 0, 0, 0, 0, 0, 0, 0, 0, 1, 1, 1, 1, 1, 1, 1,\n",
              "       1, 1, 1, 1, 1, 1, 1, 1, 1, 1, 1, 1, 1, 1, 1, 1, 1, 1, 1, 1, 1, 1,\n",
              "       1, 1, 1, 1, 1, 1, 1, 1, 1, 1, 1, 1, 1, 1, 1, 1, 1, 1, 1, 1, 1, 1,\n",
              "       1, 1, 1, 1, 1, 1, 1, 1, 1, 1, 1, 1, 1, 1, 1, 1, 1, 1, 1, 1, 2, 2,\n",
              "       2, 2, 2, 2, 2, 2, 2, 2, 2, 2, 2, 2, 2, 2, 2, 2, 2, 2, 2, 2, 2, 2,\n",
              "       2, 2, 2, 2, 2, 2, 2, 2, 2, 2, 2, 2, 2, 2, 2, 2, 2, 2, 2, 2, 2, 2,\n",
              "       2, 2])"
            ]
          },
          "metadata": {
            "tags": []
          },
          "execution_count": 17
        }
      ]
    },
    {
      "cell_type": "code",
      "metadata": {
        "id": "rL3PSiQnVhSA",
        "colab_type": "code",
        "colab": {
          "base_uri": "https://localhost:8080/",
          "height": 254
        },
        "outputId": "c84c5eb2-caf6-47e6-981f-ed7df0f278f8"
      },
      "source": [
        "x, type(x)"
      ],
      "execution_count": 19,
      "outputs": [
        {
          "output_type": "execute_result",
          "data": {
            "text/plain": [
              "(array([[1.423e+01, 2.430e+00, 1.560e+01, ..., 5.640e+00, 1.040e+00,\n",
              "         1.065e+03],\n",
              "        [1.320e+01, 2.140e+00, 1.120e+01, ..., 4.380e+00, 1.050e+00,\n",
              "         1.050e+03],\n",
              "        [1.316e+01, 2.670e+00, 1.860e+01, ..., 5.680e+00, 1.030e+00,\n",
              "         1.185e+03],\n",
              "        ...,\n",
              "        [1.327e+01, 2.260e+00, 2.000e+01, ..., 1.020e+01, 5.900e-01,\n",
              "         8.350e+02],\n",
              "        [1.317e+01, 2.370e+00, 2.000e+01, ..., 9.300e+00, 6.000e-01,\n",
              "         8.400e+02],\n",
              "        [1.413e+01, 2.740e+00, 2.450e+01, ..., 9.200e+00, 6.100e-01,\n",
              "         5.600e+02]]), numpy.ndarray)"
            ]
          },
          "metadata": {
            "tags": []
          },
          "execution_count": 19
        }
      ]
    },
    {
      "cell_type": "code",
      "metadata": {
        "id": "2lqVG8zkVj4c",
        "colab_type": "code",
        "colab": {}
      },
      "source": [
        "# 学習データとテストデータの分割\n",
        "from sklearn.model_selection import train_test_split\n",
        "x_train, x_test, t_train, t_test = train_test_split(x, t, train_size=0.7, random_state=0)"
      ],
      "execution_count": 20,
      "outputs": []
    },
    {
      "cell_type": "code",
      "metadata": {
        "id": "EidG1WQ7WDmX",
        "colab_type": "code",
        "colab": {
          "base_uri": "https://localhost:8080/",
          "height": 35
        },
        "outputId": "563da917-436c-4dce-be30-9111b779b0b6"
      },
      "source": [
        "x_train.shape, x_train.dtype, x_test.shape, x_test.dtype"
      ],
      "execution_count": 32,
      "outputs": [
        {
          "output_type": "execute_result",
          "data": {
            "text/plain": [
              "((124, 10), dtype('float32'), (124, 10), dtype('float32'))"
            ]
          },
          "metadata": {
            "tags": []
          },
          "execution_count": 32
        }
      ]
    },
    {
      "cell_type": "code",
      "metadata": {
        "id": "2g0ZX8TuWOTe",
        "colab_type": "code",
        "colab": {
          "base_uri": "https://localhost:8080/",
          "height": 35
        },
        "outputId": "0a3a68c1-d10d-49bd-d8b7-3a8c8f6e9ea0"
      },
      "source": [
        "t_train.shape, t_train.dtype, t_test.shape, t_test.dtype"
      ],
      "execution_count": 34,
      "outputs": [
        {
          "output_type": "execute_result",
          "data": {
            "text/plain": [
              "((124,), dtype('int32'), (124,), dtype('int32'))"
            ]
          },
          "metadata": {
            "tags": []
          },
          "execution_count": 34
        }
      ]
    },
    {
      "cell_type": "code",
      "metadata": {
        "id": "bMEi9xFNWl42",
        "colab_type": "code",
        "colab": {}
      },
      "source": [
        "x_train = np.array(x_train, np.float32)\n",
        "x_test = np.array(x_train, np.float32)\n",
        "t_train = np.array(t_train, np.int32)\n",
        "t_test = np.array(t_train, np.int32)"
      ],
      "execution_count": 35,
      "outputs": []
    },
    {
      "cell_type": "code",
      "metadata": {
        "id": "PhTZfCSTWsKk",
        "colab_type": "code",
        "colab": {}
      },
      "source": [
        "import os, random\n",
        "\n",
        "def reset_seed(seed=0):\n",
        "    os.environ['PYTHONHASHSEED'] = '0'\n",
        "    random.seed(seed) # random関数のシードを固定\n",
        "    np.random.seed(seed) # numpyのシードを固定\n",
        "    tf.random.set_seed(seed) # tensorflowのシードを固定"
      ],
      "execution_count": 36,
      "outputs": []
    },
    {
      "cell_type": "code",
      "metadata": {
        "id": "xU3lKXQXXVt6",
        "colab_type": "code",
        "colab": {}
      },
      "source": [
        "from tensorflow.keras import models, layers"
      ],
      "execution_count": 37,
      "outputs": []
    },
    {
      "cell_type": "code",
      "metadata": {
        "id": "8JJPdz05Xhmi",
        "colab_type": "code",
        "colab": {}
      },
      "source": [
        "# シードの固定\n",
        "reset_seed(0)\n",
        "\n",
        "# モデルの構築\n",
        "model = models.Sequential([\n",
        "                           layers.Dense(units=10, activation='relu', input_shape=(10, )),\n",
        "                           layers.Dense(units=3, activation='softmax')\n",
        "])"
      ],
      "execution_count": 39,
      "outputs": []
    },
    {
      "cell_type": "code",
      "metadata": {
        "id": "tTdlQXjjYPX2",
        "colab_type": "code",
        "colab": {}
      },
      "source": [
        "# モデルのコンパイル\n",
        "model.compile(optimizer='sgd',\n",
        "               loss='sparse_categorical_crossentropy',\n",
        "               metrics=['accuracy'])"
      ],
      "execution_count": 40,
      "outputs": []
    },
    {
      "cell_type": "code",
      "metadata": {
        "id": "I9h4YfXyZFZ3",
        "colab_type": "code",
        "colab": {
          "base_uri": "https://localhost:8080/",
          "height": 381
        },
        "outputId": "107bb24f-4a63-4aca-feac-e3e8f07e82d9"
      },
      "source": [
        "history = model.fit(x_train, t_train,\n",
        "                    batch_size=10,\n",
        "                    epochs=10,\n",
        "                    validation_data=(x_test, t_test))"
      ],
      "execution_count": 42,
      "outputs": [
        {
          "output_type": "stream",
          "text": [
            "Epoch 1/10\n",
            "13/13 [==============================] - 0s 17ms/step - loss: 494.3857 - accuracy: 0.2984 - val_loss: 1.0982 - val_accuracy: 0.3952\n",
            "Epoch 2/10\n",
            "13/13 [==============================] - 0s 6ms/step - loss: 1.0982 - accuracy: 0.3952 - val_loss: 1.0971 - val_accuracy: 0.3952\n",
            "Epoch 3/10\n",
            "13/13 [==============================] - 0s 5ms/step - loss: 1.0972 - accuracy: 0.3952 - val_loss: 1.0966 - val_accuracy: 0.3952\n",
            "Epoch 4/10\n",
            "13/13 [==============================] - 0s 5ms/step - loss: 1.0967 - accuracy: 0.3952 - val_loss: 1.0962 - val_accuracy: 0.3952\n",
            "Epoch 5/10\n",
            "13/13 [==============================] - 0s 5ms/step - loss: 1.0964 - accuracy: 0.3952 - val_loss: 1.0955 - val_accuracy: 0.3952\n",
            "Epoch 6/10\n",
            "13/13 [==============================] - 0s 5ms/step - loss: 1.0955 - accuracy: 0.3952 - val_loss: 1.0949 - val_accuracy: 0.3952\n",
            "Epoch 7/10\n",
            "13/13 [==============================] - 0s 5ms/step - loss: 1.0948 - accuracy: 0.3952 - val_loss: 1.0945 - val_accuracy: 0.3952\n",
            "Epoch 8/10\n",
            "13/13 [==============================] - 0s 5ms/step - loss: 1.0945 - accuracy: 0.3952 - val_loss: 1.0942 - val_accuracy: 0.3952\n",
            "Epoch 9/10\n",
            "13/13 [==============================] - 0s 5ms/step - loss: 1.0941 - accuracy: 0.3952 - val_loss: 1.0938 - val_accuracy: 0.3952\n",
            "Epoch 10/10\n",
            "13/13 [==============================] - 0s 6ms/step - loss: 1.0941 - accuracy: 0.3952 - val_loss: 1.0934 - val_accuracy: 0.3952\n"
          ],
          "name": "stdout"
        }
      ]
    },
    {
      "cell_type": "code",
      "metadata": {
        "id": "d5C1SbTJZWtj",
        "colab_type": "code",
        "colab": {
          "base_uri": "https://localhost:8080/",
          "height": 745
        },
        "outputId": "3f30e525-d27a-436a-80ca-006d67cca29c"
      },
      "source": [
        "history.history"
      ],
      "execution_count": 43,
      "outputs": [
        {
          "output_type": "execute_result",
          "data": {
            "text/plain": [
              "{'accuracy': [0.2983871102333069,\n",
              "  0.39516130089759827,\n",
              "  0.39516130089759827,\n",
              "  0.39516130089759827,\n",
              "  0.39516130089759827,\n",
              "  0.39516130089759827,\n",
              "  0.39516130089759827,\n",
              "  0.39516130089759827,\n",
              "  0.39516130089759827,\n",
              "  0.39516130089759827],\n",
              " 'loss': [494.3856506347656,\n",
              "  1.0981626510620117,\n",
              "  1.0972340106964111,\n",
              "  1.0966664552688599,\n",
              "  1.0963795185089111,\n",
              "  1.0955145359039307,\n",
              "  1.094819188117981,\n",
              "  1.0944644212722778,\n",
              "  1.0941150188446045,\n",
              "  1.0940911769866943],\n",
              " 'val_accuracy': [0.39516130089759827,\n",
              "  0.39516130089759827,\n",
              "  0.39516130089759827,\n",
              "  0.39516130089759827,\n",
              "  0.39516130089759827,\n",
              "  0.39516130089759827,\n",
              "  0.39516130089759827,\n",
              "  0.39516130089759827,\n",
              "  0.39516130089759827,\n",
              "  0.39516130089759827],\n",
              " 'val_loss': [1.098228096961975,\n",
              "  1.0971368551254272,\n",
              "  1.096636414527893,\n",
              "  1.09623122215271,\n",
              "  1.0955188274383545,\n",
              "  1.0949188470840454,\n",
              "  1.0944960117340088,\n",
              "  1.0941643714904785,\n",
              "  1.0938093662261963,\n",
              "  1.0934256315231323]}"
            ]
          },
          "metadata": {
            "tags": []
          },
          "execution_count": 43
        }
      ]
    },
    {
      "cell_type": "code",
      "metadata": {
        "id": "EAUBrzLRZ57G",
        "colab_type": "code",
        "colab": {
          "base_uri": "https://localhost:8080/",
          "height": 198
        },
        "outputId": "a4c5ae40-5d9f-4cf3-ac6d-95f64c124218"
      },
      "source": [
        "result = pd.DataFrame(history.history)\n",
        "result.head()"
      ],
      "execution_count": 44,
      "outputs": [
        {
          "output_type": "execute_result",
          "data": {
            "text/html": [
              "<div>\n",
              "<style scoped>\n",
              "    .dataframe tbody tr th:only-of-type {\n",
              "        vertical-align: middle;\n",
              "    }\n",
              "\n",
              "    .dataframe tbody tr th {\n",
              "        vertical-align: top;\n",
              "    }\n",
              "\n",
              "    .dataframe thead th {\n",
              "        text-align: right;\n",
              "    }\n",
              "</style>\n",
              "<table border=\"1\" class=\"dataframe\">\n",
              "  <thead>\n",
              "    <tr style=\"text-align: right;\">\n",
              "      <th></th>\n",
              "      <th>loss</th>\n",
              "      <th>accuracy</th>\n",
              "      <th>val_loss</th>\n",
              "      <th>val_accuracy</th>\n",
              "    </tr>\n",
              "  </thead>\n",
              "  <tbody>\n",
              "    <tr>\n",
              "      <th>0</th>\n",
              "      <td>494.385651</td>\n",
              "      <td>0.298387</td>\n",
              "      <td>1.098228</td>\n",
              "      <td>0.395161</td>\n",
              "    </tr>\n",
              "    <tr>\n",
              "      <th>1</th>\n",
              "      <td>1.098163</td>\n",
              "      <td>0.395161</td>\n",
              "      <td>1.097137</td>\n",
              "      <td>0.395161</td>\n",
              "    </tr>\n",
              "    <tr>\n",
              "      <th>2</th>\n",
              "      <td>1.097234</td>\n",
              "      <td>0.395161</td>\n",
              "      <td>1.096636</td>\n",
              "      <td>0.395161</td>\n",
              "    </tr>\n",
              "    <tr>\n",
              "      <th>3</th>\n",
              "      <td>1.096666</td>\n",
              "      <td>0.395161</td>\n",
              "      <td>1.096231</td>\n",
              "      <td>0.395161</td>\n",
              "    </tr>\n",
              "    <tr>\n",
              "      <th>4</th>\n",
              "      <td>1.096380</td>\n",
              "      <td>0.395161</td>\n",
              "      <td>1.095519</td>\n",
              "      <td>0.395161</td>\n",
              "    </tr>\n",
              "  </tbody>\n",
              "</table>\n",
              "</div>"
            ],
            "text/plain": [
              "         loss  accuracy  val_loss  val_accuracy\n",
              "0  494.385651  0.298387  1.098228      0.395161\n",
              "1    1.098163  0.395161  1.097137      0.395161\n",
              "2    1.097234  0.395161  1.096636      0.395161\n",
              "3    1.096666  0.395161  1.096231      0.395161\n",
              "4    1.096380  0.395161  1.095519      0.395161"
            ]
          },
          "metadata": {
            "tags": []
          },
          "execution_count": 44
        }
      ]
    },
    {
      "cell_type": "code",
      "metadata": {
        "id": "HiXM7z6-aCJ6",
        "colab_type": "code",
        "colab": {
          "base_uri": "https://localhost:8080/",
          "height": 283
        },
        "outputId": "be8971bc-fb27-4bb5-85c7-c8f0f3c4c304"
      },
      "source": [
        "# 目的関数の値\n",
        "result[['loss', 'val_loss']].plot()"
      ],
      "execution_count": 45,
      "outputs": [
        {
          "output_type": "execute_result",
          "data": {
            "text/plain": [
              "<matplotlib.axes._subplots.AxesSubplot at 0x7fae72b3c3c8>"
            ]
          },
          "metadata": {
            "tags": []
          },
          "execution_count": 45
        },
        {
          "output_type": "display_data",
          "data": {
            "image/png": "[encoded data removed]",
            "text/plain": [
              "<Figure size 432x288 with 1 Axes>"
            ]
          },
          "metadata": {
            "tags": [],
            "needs_background": "light"
          }
        }
      ]
    },
    {
      "cell_type": "code",
      "metadata": {
        "id": "ptjuT7SJaMI_",
        "colab_type": "code",
        "colab": {
          "base_uri": "https://localhost:8080/",
          "height": 269
        },
        "outputId": "abb18476-0732-41a5-90a4-5b59e909b7e7"
      },
      "source": [
        "# 正解率\n",
        "result[['accuracy', 'val_accuracy']].plot();"
      ],
      "execution_count": 46,
      "outputs": [
        {
          "output_type": "display_data",
          "data": {
            "image/png": "[encoded data removed]",
            "text/plain": [
              "<Figure size 432x288 with 1 Axes>"
            ]
          },
          "metadata": {
            "tags": [],
            "needs_background": "light"
          }
        }
      ]
    },
    {
      "cell_type": "code",
      "metadata": {
        "id": "FahAfyA6aaz2",
        "colab_type": "code",
        "colab": {
          "base_uri": "https://localhost:8080/",
          "height": 1000
        },
        "outputId": "c6e0b7d7-9a7b-47be-d18e-3579bcb416ac"
      },
      "source": [
        "# シードの固定\n",
        "reset_seed(0)\n",
        "\n",
        "# モデルの構築\n",
        "model = tf.keras.models.Sequential([\n",
        "    tf.keras.layers.BatchNormalization(input_shape=(10,)),\n",
        "    tf.keras.layers.Dense(10, activation='relu'),\n",
        "    tf.keras.layers.Dense(3, activation='softmax')\n",
        "])\n",
        "\n",
        "# モデルのコンパイル\n",
        "model.compile(optimizer='sgd',\n",
        "              loss='sparse_categorical_crossentropy',\n",
        "              metrics=['accuracy'])\n",
        "\n",
        "# モデルの学習\n",
        "history = model.fit(x_train, t_train,\n",
        "                    batch_size=10,\n",
        "                    epochs=50,\n",
        "                    validation_data=(x_test, t_test))"
      ],
      "execution_count": 48,
      "outputs": [
        {
          "output_type": "stream",
          "text": [
            "Epoch 1/50\n",
            "13/13 [==============================] - 0s 13ms/step - loss: 1.1147 - accuracy: 0.4113 - val_loss: 6.6567 - val_accuracy: 0.2823\n",
            "Epoch 2/50\n",
            "13/13 [==============================] - 0s 5ms/step - loss: 0.9663 - accuracy: 0.5242 - val_loss: 4.8539 - val_accuracy: 0.4194\n",
            "Epoch 3/50\n",
            "13/13 [==============================] - 0s 5ms/step - loss: 0.8845 - accuracy: 0.6371 - val_loss: 4.2069 - val_accuracy: 0.5968\n",
            "Epoch 4/50\n",
            "13/13 [==============================] - 0s 6ms/step - loss: 0.7976 - accuracy: 0.6452 - val_loss: 3.8261 - val_accuracy: 0.5968\n",
            "Epoch 5/50\n",
            "13/13 [==============================] - 0s 6ms/step - loss: 0.7996 - accuracy: 0.6774 - val_loss: 3.5485 - val_accuracy: 0.5887\n",
            "Epoch 6/50\n",
            "13/13 [==============================] - 0s 5ms/step - loss: 0.6504 - accuracy: 0.8065 - val_loss: 3.2491 - val_accuracy: 0.5806\n",
            "Epoch 7/50\n",
            "13/13 [==============================] - 0s 5ms/step - loss: 0.5696 - accuracy: 0.8548 - val_loss: 2.9814 - val_accuracy: 0.5726\n",
            "Epoch 8/50\n",
            "13/13 [==============================] - 0s 5ms/step - loss: 0.5275 - accuracy: 0.8710 - val_loss: 2.7237 - val_accuracy: 0.5806\n",
            "Epoch 9/50\n",
            "13/13 [==============================] - 0s 5ms/step - loss: 0.4686 - accuracy: 0.8710 - val_loss: 2.4249 - val_accuracy: 0.5806\n",
            "Epoch 10/50\n",
            "13/13 [==============================] - 0s 5ms/step - loss: 0.5327 - accuracy: 0.8065 - val_loss: 2.1775 - val_accuracy: 0.5887\n",
            "Epoch 11/50\n",
            "13/13 [==============================] - 0s 5ms/step - loss: 0.4810 - accuracy: 0.8226 - val_loss: 1.8819 - val_accuracy: 0.5887\n",
            "Epoch 12/50\n",
            "13/13 [==============================] - 0s 5ms/step - loss: 0.4626 - accuracy: 0.8790 - val_loss: 1.6278 - val_accuracy: 0.5968\n",
            "Epoch 13/50\n",
            "13/13 [==============================] - 0s 5ms/step - loss: 0.3677 - accuracy: 0.9113 - val_loss: 1.3965 - val_accuracy: 0.6048\n",
            "Epoch 14/50\n",
            "13/13 [==============================] - 0s 5ms/step - loss: 0.3924 - accuracy: 0.9113 - val_loss: 1.1914 - val_accuracy: 0.6694\n",
            "Epoch 15/50\n",
            "13/13 [==============================] - 0s 5ms/step - loss: 0.3351 - accuracy: 0.9113 - val_loss: 1.0171 - val_accuracy: 0.6935\n",
            "Epoch 16/50\n",
            "13/13 [==============================] - 0s 4ms/step - loss: 0.4183 - accuracy: 0.8548 - val_loss: 0.8510 - val_accuracy: 0.7097\n",
            "Epoch 17/50\n",
            "13/13 [==============================] - 0s 5ms/step - loss: 0.3328 - accuracy: 0.9032 - val_loss: 0.7204 - val_accuracy: 0.7581\n",
            "Epoch 18/50\n",
            "13/13 [==============================] - 0s 5ms/step - loss: 0.3750 - accuracy: 0.8710 - val_loss: 0.6181 - val_accuracy: 0.7903\n",
            "Epoch 19/50\n",
            "13/13 [==============================] - 0s 5ms/step - loss: 0.4409 - accuracy: 0.8710 - val_loss: 0.5402 - val_accuracy: 0.8226\n",
            "Epoch 20/50\n",
            "13/13 [==============================] - 0s 6ms/step - loss: 0.2832 - accuracy: 0.9032 - val_loss: 0.4689 - val_accuracy: 0.8468\n",
            "Epoch 21/50\n",
            "13/13 [==============================] - 0s 5ms/step - loss: 0.2926 - accuracy: 0.9032 - val_loss: 0.4084 - val_accuracy: 0.8710\n",
            "Epoch 22/50\n",
            "13/13 [==============================] - 0s 8ms/step - loss: 0.3189 - accuracy: 0.9194 - val_loss: 0.3653 - val_accuracy: 0.8871\n",
            "Epoch 23/50\n",
            "13/13 [==============================] - 0s 5ms/step - loss: 0.3246 - accuracy: 0.9032 - val_loss: 0.3222 - val_accuracy: 0.9194\n",
            "Epoch 24/50\n",
            "13/13 [==============================] - 0s 5ms/step - loss: 0.2934 - accuracy: 0.9113 - val_loss: 0.2938 - val_accuracy: 0.9274\n",
            "Epoch 25/50\n",
            "13/13 [==============================] - 0s 5ms/step - loss: 0.3174 - accuracy: 0.8710 - val_loss: 0.2668 - val_accuracy: 0.9274\n",
            "Epoch 26/50\n",
            "13/13 [==============================] - 0s 5ms/step - loss: 0.2584 - accuracy: 0.9274 - val_loss: 0.2471 - val_accuracy: 0.9274\n",
            "Epoch 27/50\n",
            "13/13 [==============================] - 0s 5ms/step - loss: 0.3048 - accuracy: 0.8952 - val_loss: 0.2305 - val_accuracy: 0.9274\n",
            "Epoch 28/50\n",
            "13/13 [==============================] - 0s 5ms/step - loss: 0.2270 - accuracy: 0.9435 - val_loss: 0.2140 - val_accuracy: 0.9435\n",
            "Epoch 29/50\n",
            "13/13 [==============================] - 0s 5ms/step - loss: 0.2337 - accuracy: 0.9274 - val_loss: 0.2031 - val_accuracy: 0.9435\n",
            "Epoch 30/50\n",
            "13/13 [==============================] - 0s 5ms/step - loss: 0.2220 - accuracy: 0.9274 - val_loss: 0.1933 - val_accuracy: 0.9435\n",
            "Epoch 31/50\n",
            "13/13 [==============================] - 0s 5ms/step - loss: 0.2324 - accuracy: 0.9435 - val_loss: 0.1841 - val_accuracy: 0.9435\n",
            "Epoch 32/50\n",
            "13/13 [==============================] - 0s 5ms/step - loss: 0.2138 - accuracy: 0.9274 - val_loss: 0.1725 - val_accuracy: 0.9516\n",
            "Epoch 33/50\n",
            "13/13 [==============================] - 0s 5ms/step - loss: 0.1843 - accuracy: 0.9516 - val_loss: 0.1621 - val_accuracy: 0.9516\n",
            "Epoch 34/50\n",
            "13/13 [==============================] - 0s 6ms/step - loss: 0.1935 - accuracy: 0.9194 - val_loss: 0.1530 - val_accuracy: 0.9516\n",
            "Epoch 35/50\n",
            "13/13 [==============================] - 0s 5ms/step - loss: 0.2269 - accuracy: 0.9516 - val_loss: 0.1452 - val_accuracy: 0.9597\n",
            "Epoch 36/50\n",
            "13/13 [==============================] - 0s 5ms/step - loss: 0.2623 - accuracy: 0.9274 - val_loss: 0.1390 - val_accuracy: 0.9597\n",
            "Epoch 37/50\n",
            "13/13 [==============================] - 0s 6ms/step - loss: 0.2020 - accuracy: 0.9516 - val_loss: 0.1337 - val_accuracy: 0.9597\n",
            "Epoch 38/50\n",
            "13/13 [==============================] - 0s 5ms/step - loss: 0.2236 - accuracy: 0.9435 - val_loss: 0.1304 - val_accuracy: 0.9597\n",
            "Epoch 39/50\n",
            "13/13 [==============================] - 0s 5ms/step - loss: 0.1983 - accuracy: 0.9355 - val_loss: 0.1251 - val_accuracy: 0.9677\n",
            "Epoch 40/50\n",
            "13/13 [==============================] - 0s 6ms/step - loss: 0.2644 - accuracy: 0.9032 - val_loss: 0.1208 - val_accuracy: 0.9677\n",
            "Epoch 41/50\n",
            "13/13 [==============================] - 0s 5ms/step - loss: 0.2510 - accuracy: 0.9516 - val_loss: 0.1208 - val_accuracy: 0.9677\n",
            "Epoch 42/50\n",
            "13/13 [==============================] - 0s 5ms/step - loss: 0.2012 - accuracy: 0.9274 - val_loss: 0.1179 - val_accuracy: 0.9677\n",
            "Epoch 43/50\n",
            "13/13 [==============================] - 0s 5ms/step - loss: 0.1516 - accuracy: 0.9516 - val_loss: 0.1151 - val_accuracy: 0.9677\n",
            "Epoch 44/50\n",
            "13/13 [==============================] - 0s 5ms/step - loss: 0.1855 - accuracy: 0.9597 - val_loss: 0.1125 - val_accuracy: 0.9677\n",
            "Epoch 45/50\n",
            "13/13 [==============================] - 0s 5ms/step - loss: 0.2121 - accuracy: 0.9113 - val_loss: 0.1102 - val_accuracy: 0.9677\n",
            "Epoch 46/50\n",
            "13/13 [==============================] - 0s 5ms/step - loss: 0.2952 - accuracy: 0.8871 - val_loss: 0.1080 - val_accuracy: 0.9677\n",
            "Epoch 47/50\n",
            "13/13 [==============================] - 0s 6ms/step - loss: 0.2334 - accuracy: 0.9355 - val_loss: 0.1064 - val_accuracy: 0.9758\n",
            "Epoch 48/50\n",
            "13/13 [==============================] - 0s 6ms/step - loss: 0.1511 - accuracy: 0.9597 - val_loss: 0.1033 - val_accuracy: 0.9758\n",
            "Epoch 49/50\n",
            "13/13 [==============================] - 0s 7ms/step - loss: 0.2320 - accuracy: 0.9194 - val_loss: 0.1016 - val_accuracy: 0.9758\n",
            "Epoch 50/50\n",
            "13/13 [==============================] - 0s 5ms/step - loss: 0.2309 - accuracy: 0.9113 - val_loss: 0.0991 - val_accuracy: 0.9758\n"
          ],
          "name": "stdout"
        }
      ]
    },
    {
      "cell_type": "code",
      "metadata": {
        "id": "zCuNOC9ZauRS",
        "colab_type": "code",
        "colab": {
          "base_uri": "https://localhost:8080/",
          "height": 265
        },
        "outputId": "eca201a0-ac60-48d2-94a4-69843e44a68f"
      },
      "source": [
        "# 正解率と損失を Pandas の形式に変換\n",
        "result_batchnorm = pd.DataFrame(history.history)\n",
        "\n",
        "# 目的関数の値\n",
        "result_batchnorm[['loss', 'val_loss']].plot();"
      ],
      "execution_count": 49,
      "outputs": [
        {
          "output_type": "display_data",
          "data": {
            "image/png": "[encoded data removed]",
            "text/plain": [
              "<Figure size 432x288 with 1 Axes>"
            ]
          },
          "metadata": {
            "tags": [],
            "needs_background": "light"
          }
        }
      ]
    },
    {
      "cell_type": "code",
      "metadata": {
        "id": "2yRaTUIVcGso",
        "colab_type": "code",
        "colab": {
          "base_uri": "https://localhost:8080/",
          "height": 266
        },
        "outputId": "3787463d-a36c-45f6-e49d-ec6fe705dc26"
      },
      "source": [
        "result_batchnorm[['accuracy', 'val_accuracy']].plot();"
      ],
      "execution_count": 50,
      "outputs": [
        {
          "output_type": "display_data",
          "data": {
            "image/png": "[encoded data removed]",
            "text/plain": [
              "<Figure size 432x288 with 1 Axes>"
            ]
          },
          "metadata": {
            "tags": [],
            "needs_background": "light"
          }
        }
      ]
    },
    {
      "cell_type": "code",
      "metadata": {
        "id": "BHJPy3bsc9Mo",
        "colab_type": "code",
        "colab": {}
      },
      "source": [
        "# モデルの保存\n",
        "model.save(filepath='wine_model.h5', save_format='h5')"
      ],
      "execution_count": 51,
      "outputs": []
    },
    {
      "cell_type": "code",
      "metadata": {
        "id": "0mLDzOyrdnxL",
        "colab_type": "code",
        "colab": {}
      },
      "source": [
        "# モデルの読み込み\n",
        "loaded_model = tf.keras.models.load_model('wine_model.h5')"
      ],
      "execution_count": 52,
      "outputs": []
    },
    {
      "cell_type": "code",
      "metadata": {
        "id": "d9bffCDWdxP4",
        "colab_type": "code",
        "colab": {
          "base_uri": "https://localhost:8080/",
          "height": 35
        },
        "outputId": "717d6b20-7f21-4fc1-f9c7-2a6dc08b5385"
      },
      "source": [
        "# データの準備\n",
        "sample = x_train[0]\n",
        "sample.shape"
      ],
      "execution_count": 53,
      "outputs": [
        {
          "output_type": "execute_result",
          "data": {
            "text/plain": [
              "(10,)"
            ]
          },
          "metadata": {
            "tags": []
          },
          "execution_count": 53
        }
      ]
    },
    {
      "cell_type": "code",
      "metadata": {
        "id": "zR77G9uod5Kn",
        "colab_type": "code",
        "colab": {
          "base_uri": "https://localhost:8080/",
          "height": 635
        },
        "outputId": "ad34a6d7-32d7-476f-c170-70d19eb47a53"
      },
      "source": [
        "# 予測値の計算\n",
        "loaded_model.predict(sample)"
      ],
      "execution_count": 54,
      "outputs": [
        {
          "output_type": "error",
          "ename": "ValueError",
          "evalue": "ignored",
          "traceback": [
            "\u001b[0;31m---------------------------------------------------------------------------\u001b[0m",
            "\u001b[0;31mValueError\u001b[0m                                Traceback (most recent call last)",
            "\u001b[0;32m<ipython-input-54-b1f9cfbff078>\u001b[0m in \u001b[0;36m<module>\u001b[0;34m()\u001b[0m\n\u001b[0;32m----> 1\u001b[0;31m \u001b[0mloaded_model\u001b[0m\u001b[0;34m.\u001b[0m\u001b[0mpredict\u001b[0m\u001b[0;34m(\u001b[0m\u001b[0msample\u001b[0m\u001b[0;34m)\u001b[0m\u001b[0;34m\u001b[0m\u001b[0;34m\u001b[0m\u001b[0m\n\u001b[0m",
            "\u001b[0;32m/usr/local/lib/python3.6/dist-packages/tensorflow/python/keras/engine/training.py\u001b[0m in \u001b[0;36m_method_wrapper\u001b[0;34m(self, *args, **kwargs)\u001b[0m\n\u001b[1;32m     86\u001b[0m       raise ValueError('{} is not supported in multi-worker mode.'.format(\n\u001b[1;32m     87\u001b[0m           method.__name__))\n\u001b[0;32m---> 88\u001b[0;31m     \u001b[0;32mreturn\u001b[0m \u001b[0mmethod\u001b[0m\u001b[0;34m(\u001b[0m\u001b[0mself\u001b[0m\u001b[0;34m,\u001b[0m \u001b[0;34m*\u001b[0m\u001b[0margs\u001b[0m\u001b[0;34m,\u001b[0m \u001b[0;34m**\u001b[0m\u001b[0mkwargs\u001b[0m\u001b[0;34m)\u001b[0m\u001b[0;34m\u001b[0m\u001b[0;34m\u001b[0m\u001b[0m\n\u001b[0m\u001b[1;32m     89\u001b[0m \u001b[0;34m\u001b[0m\u001b[0m\n\u001b[1;32m     90\u001b[0m   return tf_decorator.make_decorator(\n",
            "\u001b[0;32m/usr/local/lib/python3.6/dist-packages/tensorflow/python/keras/engine/training.py\u001b[0m in \u001b[0;36mpredict\u001b[0;34m(self, x, batch_size, verbose, steps, callbacks, max_queue_size, workers, use_multiprocessing)\u001b[0m\n\u001b[1;32m   1266\u001b[0m           \u001b[0;32mfor\u001b[0m \u001b[0mstep\u001b[0m \u001b[0;32min\u001b[0m \u001b[0mdata_handler\u001b[0m\u001b[0;34m.\u001b[0m\u001b[0msteps\u001b[0m\u001b[0;34m(\u001b[0m\u001b[0;34m)\u001b[0m\u001b[0;34m:\u001b[0m\u001b[0;34m\u001b[0m\u001b[0;34m\u001b[0m\u001b[0m\n\u001b[1;32m   1267\u001b[0m             \u001b[0mcallbacks\u001b[0m\u001b[0;34m.\u001b[0m\u001b[0mon_predict_batch_begin\u001b[0m\u001b[0;34m(\u001b[0m\u001b[0mstep\u001b[0m\u001b[0;34m)\u001b[0m\u001b[0;34m\u001b[0m\u001b[0;34m\u001b[0m\u001b[0m\n\u001b[0;32m-> 1268\u001b[0;31m             \u001b[0mtmp_batch_outputs\u001b[0m \u001b[0;34m=\u001b[0m \u001b[0mpredict_function\u001b[0m\u001b[0;34m(\u001b[0m\u001b[0miterator\u001b[0m\u001b[0;34m)\u001b[0m\u001b[0;34m\u001b[0m\u001b[0;34m\u001b[0m\u001b[0m\n\u001b[0m\u001b[1;32m   1269\u001b[0m             \u001b[0;31m# Catch OutOfRangeError for Datasets of unknown size.\u001b[0m\u001b[0;34m\u001b[0m\u001b[0;34m\u001b[0m\u001b[0;34m\u001b[0m\u001b[0m\n\u001b[1;32m   1270\u001b[0m             \u001b[0;31m# This blocks until the batch has finished executing.\u001b[0m\u001b[0;34m\u001b[0m\u001b[0;34m\u001b[0m\u001b[0;34m\u001b[0m\u001b[0m\n",
            "\u001b[0;32m/usr/local/lib/python3.6/dist-packages/tensorflow/python/eager/def_function.py\u001b[0m in \u001b[0;36m__call__\u001b[0;34m(self, *args, **kwds)\u001b[0m\n\u001b[1;32m    578\u001b[0m         \u001b[0mxla_context\u001b[0m\u001b[0;34m.\u001b[0m\u001b[0mExit\u001b[0m\u001b[0;34m(\u001b[0m\u001b[0;34m)\u001b[0m\u001b[0;34m\u001b[0m\u001b[0;34m\u001b[0m\u001b[0m\n\u001b[1;32m    579\u001b[0m     \u001b[0;32melse\u001b[0m\u001b[0;34m:\u001b[0m\u001b[0;34m\u001b[0m\u001b[0;34m\u001b[0m\u001b[0m\n\u001b[0;32m--> 580\u001b[0;31m       \u001b[0mresult\u001b[0m \u001b[0;34m=\u001b[0m \u001b[0mself\u001b[0m\u001b[0;34m.\u001b[0m\u001b[0m_call\u001b[0m\u001b[0;34m(\u001b[0m\u001b[0;34m*\u001b[0m\u001b[0margs\u001b[0m\u001b[0;34m,\u001b[0m \u001b[0;34m**\u001b[0m\u001b[0mkwds\u001b[0m\u001b[0;34m)\u001b[0m\u001b[0;34m\u001b[0m\u001b[0;34m\u001b[0m\u001b[0m\n\u001b[0m\u001b[1;32m    581\u001b[0m \u001b[0;34m\u001b[0m\u001b[0m\n\u001b[1;32m    582\u001b[0m     \u001b[0;32mif\u001b[0m \u001b[0mtracing_count\u001b[0m \u001b[0;34m==\u001b[0m \u001b[0mself\u001b[0m\u001b[0;34m.\u001b[0m\u001b[0m_get_tracing_count\u001b[0m\u001b[0;34m(\u001b[0m\u001b[0;34m)\u001b[0m\u001b[0;34m:\u001b[0m\u001b[0;34m\u001b[0m\u001b[0;34m\u001b[0m\u001b[0m\n",
            "\u001b[0;32m/usr/local/lib/python3.6/dist-packages/tensorflow/python/eager/def_function.py\u001b[0m in \u001b[0;36m_call\u001b[0;34m(self, *args, **kwds)\u001b[0m\n\u001b[1;32m    625\u001b[0m       \u001b[0;31m# This is the first call of __call__, so we have to initialize.\u001b[0m\u001b[0;34m\u001b[0m\u001b[0;34m\u001b[0m\u001b[0;34m\u001b[0m\u001b[0m\n\u001b[1;32m    626\u001b[0m       \u001b[0minitializers\u001b[0m \u001b[0;34m=\u001b[0m \u001b[0;34m[\u001b[0m\u001b[0;34m]\u001b[0m\u001b[0;34m\u001b[0m\u001b[0;34m\u001b[0m\u001b[0m\n\u001b[0;32m--> 627\u001b[0;31m       \u001b[0mself\u001b[0m\u001b[0;34m.\u001b[0m\u001b[0m_initialize\u001b[0m\u001b[0;34m(\u001b[0m\u001b[0margs\u001b[0m\u001b[0;34m,\u001b[0m \u001b[0mkwds\u001b[0m\u001b[0;34m,\u001b[0m \u001b[0madd_initializers_to\u001b[0m\u001b[0;34m=\u001b[0m\u001b[0minitializers\u001b[0m\u001b[0;34m)\u001b[0m\u001b[0;34m\u001b[0m\u001b[0;34m\u001b[0m\u001b[0m\n\u001b[0m\u001b[1;32m    628\u001b[0m     \u001b[0;32mfinally\u001b[0m\u001b[0;34m:\u001b[0m\u001b[0;34m\u001b[0m\u001b[0;34m\u001b[0m\u001b[0m\n\u001b[1;32m    629\u001b[0m       \u001b[0;31m# At this point we know that the initialization is complete (or less\u001b[0m\u001b[0;34m\u001b[0m\u001b[0;34m\u001b[0m\u001b[0;34m\u001b[0m\u001b[0m\n",
            "\u001b[0;32m/usr/local/lib/python3.6/dist-packages/tensorflow/python/eager/def_function.py\u001b[0m in \u001b[0;36m_initialize\u001b[0;34m(self, args, kwds, add_initializers_to)\u001b[0m\n\u001b[1;32m    504\u001b[0m     self._concrete_stateful_fn = (\n\u001b[1;32m    505\u001b[0m         self._stateful_fn._get_concrete_function_internal_garbage_collected(  # pylint: disable=protected-access\n\u001b[0;32m--> 506\u001b[0;31m             *args, **kwds))\n\u001b[0m\u001b[1;32m    507\u001b[0m \u001b[0;34m\u001b[0m\u001b[0m\n\u001b[1;32m    508\u001b[0m     \u001b[0;32mdef\u001b[0m \u001b[0minvalid_creator_scope\u001b[0m\u001b[0;34m(\u001b[0m\u001b[0;34m*\u001b[0m\u001b[0munused_args\u001b[0m\u001b[0;34m,\u001b[0m \u001b[0;34m**\u001b[0m\u001b[0munused_kwds\u001b[0m\u001b[0;34m)\u001b[0m\u001b[0;34m:\u001b[0m\u001b[0;34m\u001b[0m\u001b[0;34m\u001b[0m\u001b[0m\n",
            "\u001b[0;32m/usr/local/lib/python3.6/dist-packages/tensorflow/python/eager/function.py\u001b[0m in \u001b[0;36m_get_concrete_function_internal_garbage_collected\u001b[0;34m(self, *args, **kwargs)\u001b[0m\n\u001b[1;32m   2444\u001b[0m       \u001b[0margs\u001b[0m\u001b[0;34m,\u001b[0m \u001b[0mkwargs\u001b[0m \u001b[0;34m=\u001b[0m \u001b[0;32mNone\u001b[0m\u001b[0;34m,\u001b[0m \u001b[0;32mNone\u001b[0m\u001b[0;34m\u001b[0m\u001b[0;34m\u001b[0m\u001b[0m\n\u001b[1;32m   2445\u001b[0m     \u001b[0;32mwith\u001b[0m \u001b[0mself\u001b[0m\u001b[0;34m.\u001b[0m\u001b[0m_lock\u001b[0m\u001b[0;34m:\u001b[0m\u001b[0;34m\u001b[0m\u001b[0;34m\u001b[0m\u001b[0m\n\u001b[0;32m-> 2446\u001b[0;31m       \u001b[0mgraph_function\u001b[0m\u001b[0;34m,\u001b[0m \u001b[0m_\u001b[0m\u001b[0;34m,\u001b[0m \u001b[0m_\u001b[0m \u001b[0;34m=\u001b[0m \u001b[0mself\u001b[0m\u001b[0;34m.\u001b[0m\u001b[0m_maybe_define_function\u001b[0m\u001b[0;34m(\u001b[0m\u001b[0margs\u001b[0m\u001b[0;34m,\u001b[0m \u001b[0mkwargs\u001b[0m\u001b[0;34m)\u001b[0m\u001b[0;34m\u001b[0m\u001b[0;34m\u001b[0m\u001b[0m\n\u001b[0m\u001b[1;32m   2447\u001b[0m     \u001b[0;32mreturn\u001b[0m \u001b[0mgraph_function\u001b[0m\u001b[0;34m\u001b[0m\u001b[0;34m\u001b[0m\u001b[0m\n\u001b[1;32m   2448\u001b[0m \u001b[0;34m\u001b[0m\u001b[0m\n",
            "\u001b[0;32m/usr/local/lib/python3.6/dist-packages/tensorflow/python/eager/function.py\u001b[0m in \u001b[0;36m_maybe_define_function\u001b[0;34m(self, args, kwargs)\u001b[0m\n\u001b[1;32m   2775\u001b[0m \u001b[0;34m\u001b[0m\u001b[0m\n\u001b[1;32m   2776\u001b[0m       \u001b[0mself\u001b[0m\u001b[0;34m.\u001b[0m\u001b[0m_function_cache\u001b[0m\u001b[0;34m.\u001b[0m\u001b[0mmissed\u001b[0m\u001b[0;34m.\u001b[0m\u001b[0madd\u001b[0m\u001b[0;34m(\u001b[0m\u001b[0mcall_context_key\u001b[0m\u001b[0;34m)\u001b[0m\u001b[0;34m\u001b[0m\u001b[0;34m\u001b[0m\u001b[0m\n\u001b[0;32m-> 2777\u001b[0;31m       \u001b[0mgraph_function\u001b[0m \u001b[0;34m=\u001b[0m \u001b[0mself\u001b[0m\u001b[0;34m.\u001b[0m\u001b[0m_create_graph_function\u001b[0m\u001b[0;34m(\u001b[0m\u001b[0margs\u001b[0m\u001b[0;34m,\u001b[0m \u001b[0mkwargs\u001b[0m\u001b[0;34m)\u001b[0m\u001b[0;34m\u001b[0m\u001b[0;34m\u001b[0m\u001b[0m\n\u001b[0m\u001b[1;32m   2778\u001b[0m       \u001b[0mself\u001b[0m\u001b[0;34m.\u001b[0m\u001b[0m_function_cache\u001b[0m\u001b[0;34m.\u001b[0m\u001b[0mprimary\u001b[0m\u001b[0;34m[\u001b[0m\u001b[0mcache_key\u001b[0m\u001b[0;34m]\u001b[0m \u001b[0;34m=\u001b[0m \u001b[0mgraph_function\u001b[0m\u001b[0;34m\u001b[0m\u001b[0;34m\u001b[0m\u001b[0m\n\u001b[1;32m   2779\u001b[0m       \u001b[0;32mreturn\u001b[0m \u001b[0mgraph_function\u001b[0m\u001b[0;34m,\u001b[0m \u001b[0margs\u001b[0m\u001b[0;34m,\u001b[0m \u001b[0mkwargs\u001b[0m\u001b[0;34m\u001b[0m\u001b[0;34m\u001b[0m\u001b[0m\n",
            "\u001b[0;32m/usr/local/lib/python3.6/dist-packages/tensorflow/python/eager/function.py\u001b[0m in \u001b[0;36m_create_graph_function\u001b[0;34m(self, args, kwargs, override_flat_arg_shapes)\u001b[0m\n\u001b[1;32m   2665\u001b[0m             \u001b[0marg_names\u001b[0m\u001b[0;34m=\u001b[0m\u001b[0marg_names\u001b[0m\u001b[0;34m,\u001b[0m\u001b[0;34m\u001b[0m\u001b[0;34m\u001b[0m\u001b[0m\n\u001b[1;32m   2666\u001b[0m             \u001b[0moverride_flat_arg_shapes\u001b[0m\u001b[0;34m=\u001b[0m\u001b[0moverride_flat_arg_shapes\u001b[0m\u001b[0;34m,\u001b[0m\u001b[0;34m\u001b[0m\u001b[0;34m\u001b[0m\u001b[0m\n\u001b[0;32m-> 2667\u001b[0;31m             capture_by_value=self._capture_by_value),\n\u001b[0m\u001b[1;32m   2668\u001b[0m         \u001b[0mself\u001b[0m\u001b[0;34m.\u001b[0m\u001b[0m_function_attributes\u001b[0m\u001b[0;34m,\u001b[0m\u001b[0;34m\u001b[0m\u001b[0;34m\u001b[0m\u001b[0m\n\u001b[1;32m   2669\u001b[0m         \u001b[0;31m# Tell the ConcreteFunction to clean up its graph once it goes out of\u001b[0m\u001b[0;34m\u001b[0m\u001b[0;34m\u001b[0m\u001b[0;34m\u001b[0m\u001b[0m\n",
            "\u001b[0;32m/usr/local/lib/python3.6/dist-packages/tensorflow/python/framework/func_graph.py\u001b[0m in \u001b[0;36mfunc_graph_from_py_func\u001b[0;34m(name, python_func, args, kwargs, signature, func_graph, autograph, autograph_options, add_control_dependencies, arg_names, op_return_value, collections, capture_by_value, override_flat_arg_shapes)\u001b[0m\n\u001b[1;32m    979\u001b[0m         \u001b[0m_\u001b[0m\u001b[0;34m,\u001b[0m \u001b[0moriginal_func\u001b[0m \u001b[0;34m=\u001b[0m \u001b[0mtf_decorator\u001b[0m\u001b[0;34m.\u001b[0m\u001b[0munwrap\u001b[0m\u001b[0;34m(\u001b[0m\u001b[0mpython_func\u001b[0m\u001b[0;34m)\u001b[0m\u001b[0;34m\u001b[0m\u001b[0;34m\u001b[0m\u001b[0m\n\u001b[1;32m    980\u001b[0m \u001b[0;34m\u001b[0m\u001b[0m\n\u001b[0;32m--> 981\u001b[0;31m       \u001b[0mfunc_outputs\u001b[0m \u001b[0;34m=\u001b[0m \u001b[0mpython_func\u001b[0m\u001b[0;34m(\u001b[0m\u001b[0;34m*\u001b[0m\u001b[0mfunc_args\u001b[0m\u001b[0;34m,\u001b[0m \u001b[0;34m**\u001b[0m\u001b[0mfunc_kwargs\u001b[0m\u001b[0;34m)\u001b[0m\u001b[0;34m\u001b[0m\u001b[0;34m\u001b[0m\u001b[0m\n\u001b[0m\u001b[1;32m    982\u001b[0m \u001b[0;34m\u001b[0m\u001b[0m\n\u001b[1;32m    983\u001b[0m       \u001b[0;31m# invariant: `func_outputs` contains only Tensors, CompositeTensors,\u001b[0m\u001b[0;34m\u001b[0m\u001b[0;34m\u001b[0m\u001b[0;34m\u001b[0m\u001b[0m\n",
            "\u001b[0;32m/usr/local/lib/python3.6/dist-packages/tensorflow/python/eager/def_function.py\u001b[0m in \u001b[0;36mwrapped_fn\u001b[0;34m(*args, **kwds)\u001b[0m\n\u001b[1;32m    439\u001b[0m         \u001b[0;31m# __wrapped__ allows AutoGraph to swap in a converted function. We give\u001b[0m\u001b[0;34m\u001b[0m\u001b[0;34m\u001b[0m\u001b[0;34m\u001b[0m\u001b[0m\n\u001b[1;32m    440\u001b[0m         \u001b[0;31m# the function a weak reference to itself to avoid a reference cycle.\u001b[0m\u001b[0;34m\u001b[0m\u001b[0;34m\u001b[0m\u001b[0;34m\u001b[0m\u001b[0m\n\u001b[0;32m--> 441\u001b[0;31m         \u001b[0;32mreturn\u001b[0m \u001b[0mweak_wrapped_fn\u001b[0m\u001b[0;34m(\u001b[0m\u001b[0;34m)\u001b[0m\u001b[0;34m.\u001b[0m\u001b[0m__wrapped__\u001b[0m\u001b[0;34m(\u001b[0m\u001b[0;34m*\u001b[0m\u001b[0margs\u001b[0m\u001b[0;34m,\u001b[0m \u001b[0;34m**\u001b[0m\u001b[0mkwds\u001b[0m\u001b[0;34m)\u001b[0m\u001b[0;34m\u001b[0m\u001b[0;34m\u001b[0m\u001b[0m\n\u001b[0m\u001b[1;32m    442\u001b[0m     \u001b[0mweak_wrapped_fn\u001b[0m \u001b[0;34m=\u001b[0m \u001b[0mweakref\u001b[0m\u001b[0;34m.\u001b[0m\u001b[0mref\u001b[0m\u001b[0;34m(\u001b[0m\u001b[0mwrapped_fn\u001b[0m\u001b[0;34m)\u001b[0m\u001b[0;34m\u001b[0m\u001b[0;34m\u001b[0m\u001b[0m\n\u001b[1;32m    443\u001b[0m \u001b[0;34m\u001b[0m\u001b[0m\n",
            "\u001b[0;32m/usr/local/lib/python3.6/dist-packages/tensorflow/python/framework/func_graph.py\u001b[0m in \u001b[0;36mwrapper\u001b[0;34m(*args, **kwargs)\u001b[0m\n\u001b[1;32m    966\u001b[0m           \u001b[0;32mexcept\u001b[0m \u001b[0mException\u001b[0m \u001b[0;32mas\u001b[0m \u001b[0me\u001b[0m\u001b[0;34m:\u001b[0m  \u001b[0;31m# pylint:disable=broad-except\u001b[0m\u001b[0;34m\u001b[0m\u001b[0;34m\u001b[0m\u001b[0m\n\u001b[1;32m    967\u001b[0m             \u001b[0;32mif\u001b[0m \u001b[0mhasattr\u001b[0m\u001b[0;34m(\u001b[0m\u001b[0me\u001b[0m\u001b[0;34m,\u001b[0m \u001b[0;34m\"ag_error_metadata\"\u001b[0m\u001b[0;34m)\u001b[0m\u001b[0;34m:\u001b[0m\u001b[0;34m\u001b[0m\u001b[0;34m\u001b[0m\u001b[0m\n\u001b[0;32m--> 968\u001b[0;31m               \u001b[0;32mraise\u001b[0m \u001b[0me\u001b[0m\u001b[0;34m.\u001b[0m\u001b[0mag_error_metadata\u001b[0m\u001b[0;34m.\u001b[0m\u001b[0mto_exception\u001b[0m\u001b[0;34m(\u001b[0m\u001b[0me\u001b[0m\u001b[0;34m)\u001b[0m\u001b[0;34m\u001b[0m\u001b[0;34m\u001b[0m\u001b[0m\n\u001b[0m\u001b[1;32m    969\u001b[0m             \u001b[0;32melse\u001b[0m\u001b[0;34m:\u001b[0m\u001b[0;34m\u001b[0m\u001b[0;34m\u001b[0m\u001b[0m\n\u001b[1;32m    970\u001b[0m               \u001b[0;32mraise\u001b[0m\u001b[0;34m\u001b[0m\u001b[0;34m\u001b[0m\u001b[0m\n",
            "\u001b[0;31mValueError\u001b[0m: in user code:\n\n    /usr/local/lib/python3.6/dist-packages/tensorflow/python/keras/engine/training.py:1147 predict_function  *\n        outputs = self.distribute_strategy.run(\n    /usr/local/lib/python3.6/dist-packages/tensorflow/python/distribute/distribute_lib.py:951 run  **\n        return self._extended.call_for_each_replica(fn, args=args, kwargs=kwargs)\n    /usr/local/lib/python3.6/dist-packages/tensorflow/python/distribute/distribute_lib.py:2290 call_for_each_replica\n        return self._call_for_each_replica(fn, args, kwargs)\n    /usr/local/lib/python3.6/dist-packages/tensorflow/python/distribute/distribute_lib.py:2649 _call_for_each_replica\n        return fn(*args, **kwargs)\n    /usr/local/lib/python3.6/dist-packages/tensorflow/python/keras/engine/training.py:1122 predict_step  **\n        return self(x, training=False)\n    /usr/local/lib/python3.6/dist-packages/tensorflow/python/keras/engine/base_layer.py:886 __call__\n        self.name)\n    /usr/local/lib/python3.6/dist-packages/tensorflow/python/keras/engine/input_spec.py:216 assert_input_compatibility\n        ' but received input with shape ' + str(shape))\n\n    ValueError: Input 0 of layer sequential_1 is incompatible with the layer: expected axis 1 of input shape to have value 10 but received input with shape [None, 1]\n"
          ]
        }
      ]
    },
    {
      "cell_type": "code",
      "metadata": {
        "id": "K1cvWy-Zd9Vb",
        "colab_type": "code",
        "colab": {
          "base_uri": "https://localhost:8080/",
          "height": 35
        },
        "outputId": "06a74f7f-f25d-4c57-c325-9575c65c738b"
      },
      "source": [
        "# 形を変換\n",
        "sample = sample.reshape(1, 10)\n",
        "sample.shape"
      ],
      "execution_count": 55,
      "outputs": [
        {
          "output_type": "execute_result",
          "data": {
            "text/plain": [
              "(1, 10)"
            ]
          },
          "metadata": {
            "tags": []
          },
          "execution_count": 55
        }
      ]
    },
    {
      "cell_type": "code",
      "metadata": {
        "id": "hHOPyZ-heLBa",
        "colab_type": "code",
        "colab": {
          "base_uri": "https://localhost:8080/",
          "height": 35
        },
        "outputId": "aea7905a-d6d3-498c-a323-5f2c678b18a8"
      },
      "source": [
        "# 予測値の計算\n",
        "y = loaded_model.predict(sample)\n",
        "y"
      ],
      "execution_count": 56,
      "outputs": [
        {
          "output_type": "execute_result",
          "data": {
            "text/plain": [
              "array([[0.9737636 , 0.00732896, 0.01890747]], dtype=float32)"
            ]
          },
          "metadata": {
            "tags": []
          },
          "execution_count": 56
        }
      ]
    },
    {
      "cell_type": "markdown",
      "metadata": {
        "id": "L_P4ayvreus7",
        "colab_type": "text"
      },
      "source": [
        ""
      ]
    },
    {
      "cell_type": "markdown",
      "metadata": {
        "id": "LPShcJeaeuiy",
        "colab_type": "text"
      },
      "source": [
        ""
      ]
    },
    {
      "cell_type": "code",
      "metadata": {
        "id": "XFs5CpmTeNPS",
        "colab_type": "code",
        "colab": {
          "base_uri": "https://localhost:8080/",
          "height": 35
        },
        "outputId": "01cdad5b-45d3-4869-e268-a7cfc866fd1d"
      },
      "source": [
        "# 最も値の大きなラベルを取得\n",
        "np.argmax(y)"
      ],
      "execution_count": 59,
      "outputs": [
        {
          "output_type": "execute_result",
          "data": {
            "text/plain": [
              "0"
            ]
          },
          "metadata": {
            "tags": []
          },
          "execution_count": 59
        }
      ]
    },
    {
      "cell_type": "code",
      "metadata": {
        "id": "DyiYMOGNecPF",
        "colab_type": "code",
        "colab": {
          "base_uri": "https://localhost:8080/",
          "height": 35
        },
        "outputId": "7da50844-c028-4568-fd65-1c653da36fe6"
      },
      "source": [
        "t_train[0]"
      ],
      "execution_count": 60,
      "outputs": [
        {
          "output_type": "execute_result",
          "data": {
            "text/plain": [
              "0"
            ]
          },
          "metadata": {
            "tags": []
          },
          "execution_count": 60
        }
      ]
    },
    {
      "cell_type": "code",
      "metadata": {
        "id": "PsIewb6Uehn5",
        "colab_type": "code",
        "colab": {}
      },
      "source": [
        ""
      ],
      "execution_count": null,
      "outputs": []
    }
  ]
}