{
  "nbformat": 4,
  "nbformat_minor": 0,
  "metadata": {
    "colab": {
      "name": "ファインチューニング.ipynb",
      "provenance": [],
      "authorship_tag": "ABX9TyNSxXemGtwgYS3o5yZuL2fy",
      "include_colab_link": true
    },
    "kernelspec": {
      "name": "python3",
      "display_name": "Python 3"
    },
    "accelerator": "GPU"
  },
  "cells": [
    {
      "cell_type": "markdown",
      "metadata": {
        "id": "view-in-github",
        "colab_type": "text"
      },
      "source": [
        "<a href=\"https://colab.research.google.com/github/hy05sprsea/KIKAGAKU-Tutorial/blob/master/%E3%83%95%E3%82%A1%E3%82%A4%E3%83%B3%E3%83%81%E3%83%A5%E3%83%BC%E3%83%8B%E3%83%B3%E3%82%B0.ipynb\" target=\"_parent\"><img src=\"https://colab.research.google.com/assets/colab-badge.svg\" alt=\"Open In Colab\"/></a>"
      ]
    },
    {
      "cell_type": "code",
      "metadata": {
        "id": "GSzBAciFyqVG",
        "colab_type": "code",
        "colab": {}
      },
      "source": [
        "import numpy as np\n",
        "import pandas as pd\n",
        "import matplotlib.pyplot as plt\n",
        "import cv2\n",
        "\n",
        "import tensorflow as tf"
      ],
      "execution_count": 4,
      "outputs": []
    },
    {
      "cell_type": "code",
      "metadata": {
        "id": "y3YN_j-BzH6e",
        "colab_type": "code",
        "colab": {
          "base_uri": "https://localhost:8080/",
          "height": 581
        },
        "outputId": "93ff2073-564b-463a-b8e9-d25101c3ace2"
      },
      "source": [
        "from tensorflow.python.client import device_lib\n",
        "print(device_lib.list_local_devices())"
      ],
      "execution_count": 5,
      "outputs": [
        {
          "output_type": "stream",
          "text": [
            "[name: \"/device:CPU:0\"\n",
            "device_type: \"CPU\"\n",
            "memory_limit: 268435456\n",
            "locality {\n",
            "}\n",
            "incarnation: 8329648957079839188\n",
            ", name: \"/device:XLA_CPU:0\"\n",
            "device_type: \"XLA_CPU\"\n",
            "memory_limit: 17179869184\n",
            "locality {\n",
            "}\n",
            "incarnation: 7306918986385454606\n",
            "physical_device_desc: \"device: XLA_CPU device\"\n",
            ", name: \"/device:XLA_GPU:0\"\n",
            "device_type: \"XLA_GPU\"\n",
            "memory_limit: 17179869184\n",
            "locality {\n",
            "}\n",
            "incarnation: 6385008339127079427\n",
            "physical_device_desc: \"device: XLA_GPU device\"\n",
            ", name: \"/device:GPU:0\"\n",
            "device_type: \"GPU\"\n",
            "memory_limit: 14648777152\n",
            "locality {\n",
            "  bus_id: 1\n",
            "  links {\n",
            "  }\n",
            "}\n",
            "incarnation: 10100993677579190258\n",
            "physical_device_desc: \"device: 0, name: Tesla T4, pci bus id: 0000:00:04.0, compute capability: 7.5\"\n",
            "]\n"
          ],
          "name": "stdout"
        }
      ]
    },
    {
      "cell_type": "code",
      "metadata": {
        "id": "BmQxKhG5zWZU",
        "colab_type": "code",
        "colab": {}
      },
      "source": [
        "train, test = tf.keras.datasets.cifar10.load_data()"
      ],
      "execution_count": 6,
      "outputs": []
    },
    {
      "cell_type": "code",
      "metadata": {
        "id": "SK8jLA2iziR3",
        "colab_type": "code",
        "colab": {
          "base_uri": "https://localhost:8080/",
          "height": 35
        },
        "outputId": "0f0513dd-9a32-47ee-dc38-6da67d76568a"
      },
      "source": [
        "# 画像の情報\n",
        "train[0].shape, test[0].shape"
      ],
      "execution_count": 7,
      "outputs": [
        {
          "output_type": "execute_result",
          "data": {
            "text/plain": [
              "((50000, 32, 32, 3), (10000, 32, 32, 3))"
            ]
          },
          "metadata": {
            "tags": []
          },
          "execution_count": 7
        }
      ]
    },
    {
      "cell_type": "code",
      "metadata": {
        "id": "-NCWNkp-zpn0",
        "colab_type": "code",
        "colab": {
          "base_uri": "https://localhost:8080/",
          "height": 35
        },
        "outputId": "70cc0dee-01ac-4215-d344-292ec6216c11"
      },
      "source": [
        "# ラベルの情報\n",
        "train[1].shape, test[1].shape"
      ],
      "execution_count": 8,
      "outputs": [
        {
          "output_type": "execute_result",
          "data": {
            "text/plain": [
              "((50000, 1), (10000, 1))"
            ]
          },
          "metadata": {
            "tags": []
          },
          "execution_count": 8
        }
      ]
    },
    {
      "cell_type": "code",
      "metadata": {
        "id": "HMNdvNDOzxG8",
        "colab_type": "code",
        "colab": {}
      },
      "source": [
        "# 学習用データセットとテスト用データセットに対して正規化\n",
        "x_train = train[0] / 255\n",
        "x_test = test[0] / 255"
      ],
      "execution_count": 9,
      "outputs": []
    },
    {
      "cell_type": "code",
      "metadata": {
        "id": "WIRsFVTtz9oE",
        "colab_type": "code",
        "colab": {}
      },
      "source": [
        "t_train = train[1]\n",
        "t_test = test[1]"
      ],
      "execution_count": 10,
      "outputs": []
    },
    {
      "cell_type": "code",
      "metadata": {
        "id": "PoktYAoh0KqI",
        "colab_type": "code",
        "colab": {
          "base_uri": "https://localhost:8080/",
          "height": 35
        },
        "outputId": "6def0b95-d6f1-4a9d-8275-e2ccb92deccf"
      },
      "source": [
        "t_train.dtype"
      ],
      "execution_count": 11,
      "outputs": [
        {
          "output_type": "execute_result",
          "data": {
            "text/plain": [
              "dtype('uint8')"
            ]
          },
          "metadata": {
            "tags": []
          },
          "execution_count": 11
        }
      ]
    },
    {
      "cell_type": "code",
      "metadata": {
        "id": "ooC-Kcvx0SN9",
        "colab_type": "code",
        "colab": {}
      },
      "source": [
        "# 32bit にキャスト\n",
        "x_train, x_test = x_train.astype('float32'), x_test.astype('float32')\n",
        "t_train, t_test = t_train.astype('int32'), t_test.astype('int32')"
      ],
      "execution_count": 12,
      "outputs": []
    },
    {
      "cell_type": "code",
      "metadata": {
        "id": "yuZ9PQMr0alf",
        "colab_type": "code",
        "colab": {}
      },
      "source": [
        "import os, random\n",
        "\n",
        "def reset_seed(seed=0):\n",
        "    os.environ['PYTHONHASHSEED'] = '0'\n",
        "    random.seed(seed)\n",
        "    np.random.seed(seed)\n",
        "    tf.random.set_seed(seed)"
      ],
      "execution_count": 13,
      "outputs": []
    },
    {
      "cell_type": "code",
      "metadata": {
        "id": "0L5W_nzX0gDk",
        "colab_type": "code",
        "colab": {}
      },
      "source": [
        "from tensorflow.keras import models, layers\n",
        "\n",
        "reset_seed(0)\n",
        "\n",
        "# モデルの構築\n",
        "model = models.Sequential([\n",
        "    # 特徴量抽出\n",
        "    layers.Conv2D(filters=3, kernel_size=(3, 3), activation='relu', input_shape=(32, 32, 3)),\n",
        "    layers.MaxPool2D(pool_size=(2, 2)),\n",
        "    # ベクトル化\n",
        "    layers.Flatten(),\n",
        "    # 識別\n",
        "    layers.Dense(100, activation='relu'),\n",
        "    layers.Dense(10, activation='softmax')\n",
        "])"
      ],
      "execution_count": 14,
      "outputs": []
    },
    {
      "cell_type": "code",
      "metadata": {
        "id": "RPpNpjLr0jUv",
        "colab_type": "code",
        "colab": {
          "base_uri": "https://localhost:8080/",
          "height": 345
        },
        "outputId": "26744557-8746-44c7-ca22-453cd62e9ebb"
      },
      "source": [
        "model.summary()"
      ],
      "execution_count": 15,
      "outputs": [
        {
          "output_type": "stream",
          "text": [
            "Model: \"sequential\"\n",
            "_________________________________________________________________\n",
            "Layer (type)                 Output Shape              Param #   \n",
            "=================================================================\n",
            "conv2d (Conv2D)              (None, 30, 30, 3)         84        \n",
            "_________________________________________________________________\n",
            "max_pooling2d (MaxPooling2D) (None, 15, 15, 3)         0         \n",
            "_________________________________________________________________\n",
            "flatten (Flatten)            (None, 675)               0         \n",
            "_________________________________________________________________\n",
            "dense (Dense)                (None, 100)               67600     \n",
            "_________________________________________________________________\n",
            "dense_1 (Dense)              (None, 10)                1010      \n",
            "=================================================================\n",
            "Total params: 68,694\n",
            "Trainable params: 68,694\n",
            "Non-trainable params: 0\n",
            "_________________________________________________________________\n"
          ],
          "name": "stdout"
        }
      ]
    },
    {
      "cell_type": "code",
      "metadata": {
        "id": "Ubm3H8WU1Pd-",
        "colab_type": "code",
        "colab": {}
      },
      "source": [
        "# optimizerの設定\n",
        "optimizer = tf.keras.optimizers.Adam(lr=0.01)\n",
        "\n",
        "# モデルのコンパイル\n",
        "model.compile(optimizer=optimizer,\n",
        "              loss='sparse_categorical_crossentropy',\n",
        "              metrics=['accuracy'])"
      ],
      "execution_count": 16,
      "outputs": []
    },
    {
      "cell_type": "code",
      "metadata": {
        "id": "V7Pdtfa81yN5",
        "colab_type": "code",
        "colab": {
          "base_uri": "https://localhost:8080/",
          "height": 1000
        },
        "outputId": "9cb512d7-d685-4f5c-919c-69bf867c3068"
      },
      "source": [
        "# モデルの学習\n",
        "batch_size = 4096\n",
        "epochs = 30\n",
        "\n",
        "# 学習の実行\n",
        "history = model.fit(x_train, t_train,\n",
        "                batch_size=batch_size,\n",
        "                epochs=epochs, \n",
        "                validation_data=(x_test, t_test))\n"
      ],
      "execution_count": 17,
      "outputs": [
        {
          "output_type": "stream",
          "text": [
            "Epoch 1/30\n",
            "13/13 [==============================] - 1s 65ms/step - loss: 2.1485 - accuracy: 0.2161 - val_loss: 1.9056 - val_accuracy: 0.3299\n",
            "Epoch 2/30\n",
            "13/13 [==============================] - 1s 43ms/step - loss: 1.8599 - accuracy: 0.3522 - val_loss: 1.7672 - val_accuracy: 0.3799\n",
            "Epoch 3/30\n",
            "13/13 [==============================] - 1s 45ms/step - loss: 1.6805 - accuracy: 0.4035 - val_loss: 1.6401 - val_accuracy: 0.4145\n",
            "Epoch 4/30\n",
            "13/13 [==============================] - 1s 42ms/step - loss: 1.5715 - accuracy: 0.4382 - val_loss: 1.5540 - val_accuracy: 0.4433\n",
            "Epoch 5/30\n",
            "13/13 [==============================] - 1s 44ms/step - loss: 1.4921 - accuracy: 0.4687 - val_loss: 1.5071 - val_accuracy: 0.4581\n",
            "Epoch 6/30\n",
            "13/13 [==============================] - 1s 44ms/step - loss: 1.4463 - accuracy: 0.4848 - val_loss: 1.4698 - val_accuracy: 0.4753\n",
            "Epoch 7/30\n",
            "13/13 [==============================] - 1s 45ms/step - loss: 1.4003 - accuracy: 0.5018 - val_loss: 1.4739 - val_accuracy: 0.4743\n",
            "Epoch 8/30\n",
            "13/13 [==============================] - 1s 41ms/step - loss: 1.3750 - accuracy: 0.5134 - val_loss: 1.4409 - val_accuracy: 0.4882\n",
            "Epoch 9/30\n",
            "13/13 [==============================] - 1s 42ms/step - loss: 1.3610 - accuracy: 0.5208 - val_loss: 1.4290 - val_accuracy: 0.4956\n",
            "Epoch 10/30\n",
            "13/13 [==============================] - 1s 42ms/step - loss: 1.3239 - accuracy: 0.5331 - val_loss: 1.4363 - val_accuracy: 0.4925\n",
            "Epoch 11/30\n",
            "13/13 [==============================] - 1s 41ms/step - loss: 1.2780 - accuracy: 0.5487 - val_loss: 1.3991 - val_accuracy: 0.5062\n",
            "Epoch 12/30\n",
            "13/13 [==============================] - 1s 44ms/step - loss: 1.2471 - accuracy: 0.5596 - val_loss: 1.3869 - val_accuracy: 0.5111\n",
            "Epoch 13/30\n",
            "13/13 [==============================] - 1s 41ms/step - loss: 1.2231 - accuracy: 0.5683 - val_loss: 1.3665 - val_accuracy: 0.5226\n",
            "Epoch 14/30\n",
            "13/13 [==============================] - 1s 45ms/step - loss: 1.2042 - accuracy: 0.5762 - val_loss: 1.3723 - val_accuracy: 0.5193\n",
            "Epoch 15/30\n",
            "13/13 [==============================] - 1s 42ms/step - loss: 1.1679 - accuracy: 0.5873 - val_loss: 1.3764 - val_accuracy: 0.5197\n",
            "Epoch 16/30\n",
            "13/13 [==============================] - 1s 43ms/step - loss: 1.1524 - accuracy: 0.5941 - val_loss: 1.4000 - val_accuracy: 0.5144\n",
            "Epoch 17/30\n",
            "13/13 [==============================] - 1s 40ms/step - loss: 1.1386 - accuracy: 0.6010 - val_loss: 1.3702 - val_accuracy: 0.5242\n",
            "Epoch 18/30\n",
            "13/13 [==============================] - 1s 44ms/step - loss: 1.1093 - accuracy: 0.6084 - val_loss: 1.3754 - val_accuracy: 0.5309\n",
            "Epoch 19/30\n",
            "13/13 [==============================] - 1s 40ms/step - loss: 1.0897 - accuracy: 0.6167 - val_loss: 1.3720 - val_accuracy: 0.5276\n",
            "Epoch 20/30\n",
            "13/13 [==============================] - 1s 42ms/step - loss: 1.0793 - accuracy: 0.6213 - val_loss: 1.4149 - val_accuracy: 0.5183\n",
            "Epoch 21/30\n",
            "13/13 [==============================] - 1s 40ms/step - loss: 1.0802 - accuracy: 0.6194 - val_loss: 1.3916 - val_accuracy: 0.5291\n",
            "Epoch 22/30\n",
            "13/13 [==============================] - 1s 42ms/step - loss: 1.0516 - accuracy: 0.6302 - val_loss: 1.4023 - val_accuracy: 0.5259\n",
            "Epoch 23/30\n",
            "13/13 [==============================] - 1s 42ms/step - loss: 1.0268 - accuracy: 0.6399 - val_loss: 1.4157 - val_accuracy: 0.5228\n",
            "Epoch 24/30\n",
            "13/13 [==============================] - 1s 41ms/step - loss: 1.0261 - accuracy: 0.6394 - val_loss: 1.3986 - val_accuracy: 0.5292\n",
            "Epoch 25/30\n",
            "13/13 [==============================] - 1s 42ms/step - loss: 1.0140 - accuracy: 0.6461 - val_loss: 1.4282 - val_accuracy: 0.5202\n",
            "Epoch 26/30\n",
            "13/13 [==============================] - 1s 41ms/step - loss: 0.9898 - accuracy: 0.6534 - val_loss: 1.4186 - val_accuracy: 0.5285\n",
            "Epoch 27/30\n",
            "13/13 [==============================] - 1s 41ms/step - loss: 0.9716 - accuracy: 0.6616 - val_loss: 1.4401 - val_accuracy: 0.5163\n",
            "Epoch 28/30\n",
            "13/13 [==============================] - 1s 40ms/step - loss: 0.9586 - accuracy: 0.6662 - val_loss: 1.4460 - val_accuracy: 0.5176\n",
            "Epoch 29/30\n",
            "13/13 [==============================] - 1s 40ms/step - loss: 0.9437 - accuracy: 0.6721 - val_loss: 1.4626 - val_accuracy: 0.5115\n",
            "Epoch 30/30\n",
            "13/13 [==============================] - 1s 40ms/step - loss: 0.9397 - accuracy: 0.6732 - val_loss: 1.4790 - val_accuracy: 0.5184\n"
          ],
          "name": "stdout"
        }
      ]
    },
    {
      "cell_type": "markdown",
      "metadata": {
        "id": "ndHkafKz2gbA",
        "colab_type": "text"
      },
      "source": [
        "# **ファインチューニング**"
      ]
    },
    {
      "cell_type": "code",
      "metadata": {
        "id": "ah6tAnv913Cz",
        "colab_type": "code",
        "colab": {}
      },
      "source": [
        "from tensorflow.keras.applications import resnet, VGG16\n",
        "\n",
        "# 学習済みモデルをインスタンス化\n",
        "base_model = VGG16(input_shape=(244, 244, 3),\n",
        "                   include_top=False, weights='imagenet')"
      ],
      "execution_count": 18,
      "outputs": []
    },
    {
      "cell_type": "code",
      "metadata": {
        "id": "v3uwSRPg3AVO",
        "colab_type": "code",
        "colab": {
          "base_uri": "https://localhost:8080/",
          "height": 854
        },
        "outputId": "1578e393-7572-4ac2-ccfa-9615ebb1aa12"
      },
      "source": [
        "base_model.summary()"
      ],
      "execution_count": 19,
      "outputs": [
        {
          "output_type": "stream",
          "text": [
            "Model: \"vgg16\"\n",
            "_________________________________________________________________\n",
            "Layer (type)                 Output Shape              Param #   \n",
            "=================================================================\n",
            "input_1 (InputLayer)         [(None, 244, 244, 3)]     0         \n",
            "_________________________________________________________________\n",
            "block1_conv1 (Conv2D)        (None, 244, 244, 64)      1792      \n",
            "_________________________________________________________________\n",
            "block1_conv2 (Conv2D)        (None, 244, 244, 64)      36928     \n",
            "_________________________________________________________________\n",
            "block1_pool (MaxPooling2D)   (None, 122, 122, 64)      0         \n",
            "_________________________________________________________________\n",
            "block2_conv1 (Conv2D)        (None, 122, 122, 128)     73856     \n",
            "_________________________________________________________________\n",
            "block2_conv2 (Conv2D)        (None, 122, 122, 128)     147584    \n",
            "_________________________________________________________________\n",
            "block2_pool (MaxPooling2D)   (None, 61, 61, 128)       0         \n",
            "_________________________________________________________________\n",
            "block3_conv1 (Conv2D)        (None, 61, 61, 256)       295168    \n",
            "_________________________________________________________________\n",
            "block3_conv2 (Conv2D)        (None, 61, 61, 256)       590080    \n",
            "_________________________________________________________________\n",
            "block3_conv3 (Conv2D)        (None, 61, 61, 256)       590080    \n",
            "_________________________________________________________________\n",
            "block3_pool (MaxPooling2D)   (None, 30, 30, 256)       0         \n",
            "_________________________________________________________________\n",
            "block4_conv1 (Conv2D)        (None, 30, 30, 512)       1180160   \n",
            "_________________________________________________________________\n",
            "block4_conv2 (Conv2D)        (None, 30, 30, 512)       2359808   \n",
            "_________________________________________________________________\n",
            "block4_conv3 (Conv2D)        (None, 30, 30, 512)       2359808   \n",
            "_________________________________________________________________\n",
            "block4_pool (MaxPooling2D)   (None, 15, 15, 512)       0         \n",
            "_________________________________________________________________\n",
            "block5_conv1 (Conv2D)        (None, 15, 15, 512)       2359808   \n",
            "_________________________________________________________________\n",
            "block5_conv2 (Conv2D)        (None, 15, 15, 512)       2359808   \n",
            "_________________________________________________________________\n",
            "block5_conv3 (Conv2D)        (None, 15, 15, 512)       2359808   \n",
            "_________________________________________________________________\n",
            "block5_pool (MaxPooling2D)   (None, 7, 7, 512)         0         \n",
            "=================================================================\n",
            "Total params: 14,714,688\n",
            "Trainable params: 14,714,688\n",
            "Non-trainable params: 0\n",
            "_________________________________________________________________\n"
          ],
          "name": "stdout"
        }
      ]
    },
    {
      "cell_type": "code",
      "metadata": {
        "id": "CG9El2ii3FA7",
        "colab_type": "code",
        "colab": {}
      },
      "source": [
        "# ランダムにデータを取得する\n",
        "train_choice = np.random.randint(low=0, high=50000, size=10000)\n",
        "test_choice = np.random.randint(low=0, high=10000, size=5000)"
      ],
      "execution_count": 20,
      "outputs": []
    },
    {
      "cell_type": "code",
      "metadata": {
        "id": "u6DR4fvq3p63",
        "colab_type": "code",
        "colab": {}
      },
      "source": [
        "# データの準備\n",
        "x_train = train[0][train_choice]\n",
        "x_test = test[0][test_choice]\n",
        "t_train = train[1][train_choice].astype('int32') \n",
        "t_test = test[1][test_choice].astype('int32') "
      ],
      "execution_count": 21,
      "outputs": []
    },
    {
      "cell_type": "code",
      "metadata": {
        "id": "iit7wP3-345k",
        "colab_type": "code",
        "colab": {}
      },
      "source": [
        "_train, _test = [], []\n",
        "\n",
        "for img in x_train:\n",
        "  _train.append(cv2.resize(src=img, dsize=(244, 244)))\n",
        "for img in x_test:\n",
        "  _test.append(cv2.resize(src=img, dsize=(244, 244)))"
      ],
      "execution_count": 24,
      "outputs": []
    },
    {
      "cell_type": "markdown",
      "metadata": {
        "id": "pijX_eHV5yei",
        "colab_type": "text"
      },
      "source": [
        "**セッションがクラッシュしました**"
      ]
    }
  ]
}