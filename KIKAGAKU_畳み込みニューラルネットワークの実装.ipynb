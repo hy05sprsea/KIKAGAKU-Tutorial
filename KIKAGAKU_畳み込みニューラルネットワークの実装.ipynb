{
  "nbformat": 4,
  "nbformat_minor": 0,
  "metadata": {
    "colab": {
      "name": "KIKAGAKU-畳み込みニューラルネットワークの実装.ipynb",
      "provenance": [],
      "authorship_tag": "ABX9TyOCGcTzOyS0kJmeLTpenaWK",
      "include_colab_link": true
    },
    "kernelspec": {
      "name": "python3",
      "display_name": "Python 3"
    },
    "accelerator": "GPU"
  },
  "cells": [
    {
      "cell_type": "markdown",
      "metadata": {
        "id": "view-in-github",
        "colab_type": "text"
      },
      "source": [
        "<a href=\"https://colab.research.google.com/github/hy05sprsea/KIKAGAKU-Tutorial/blob/master/KIKAGAKU_%E7%95%B3%E3%81%BF%E8%BE%BC%E3%81%BF%E3%83%8B%E3%83%A5%E3%83%BC%E3%83%A9%E3%83%AB%E3%83%8D%E3%83%83%E3%83%88%E3%83%AF%E3%83%BC%E3%82%AF%E3%81%AE%E5%AE%9F%E8%A3%85.ipynb\" target=\"_parent\"><img src=\"https://colab.research.google.com/assets/colab-badge.svg\" alt=\"Open In Colab\"/></a>"
      ]
    },
    {
      "cell_type": "code",
      "metadata": {
        "id": "gp35Ip8Kf-w2",
        "colab_type": "code",
        "colab": {}
      },
      "source": [
        "import numpy as np\n",
        "import pandas as pd\n",
        "import matplotlib.pyplot as plt\n",
        "\n",
        "import tensorflow as tf"
      ],
      "execution_count": 1,
      "outputs": []
    },
    {
      "cell_type": "code",
      "metadata": {
        "id": "37nfW5gDgaRU",
        "colab_type": "code",
        "colab": {
          "base_uri": "https://localhost:8080/",
          "height": 581
        },
        "outputId": "bb765af9-85c8-4d22-8db3-06eefb456e0c"
      },
      "source": [
        "from tensorflow.python.client import device_lib\n",
        "print(device_lib.list_local_devices())"
      ],
      "execution_count": 2,
      "outputs": [
        {
          "output_type": "stream",
          "text": [
            "[name: \"/device:CPU:0\"\n",
            "device_type: \"CPU\"\n",
            "memory_limit: 268435456\n",
            "locality {\n",
            "}\n",
            "incarnation: 16425362235656899714\n",
            ", name: \"/device:XLA_CPU:0\"\n",
            "device_type: \"XLA_CPU\"\n",
            "memory_limit: 17179869184\n",
            "locality {\n",
            "}\n",
            "incarnation: 6779750477858296247\n",
            "physical_device_desc: \"device: XLA_CPU device\"\n",
            ", name: \"/device:XLA_GPU:0\"\n",
            "device_type: \"XLA_GPU\"\n",
            "memory_limit: 17179869184\n",
            "locality {\n",
            "}\n",
            "incarnation: 17623275447191118767\n",
            "physical_device_desc: \"device: XLA_GPU device\"\n",
            ", name: \"/device:GPU:0\"\n",
            "device_type: \"GPU\"\n",
            "memory_limit: 11150726272\n",
            "locality {\n",
            "  bus_id: 1\n",
            "  links {\n",
            "  }\n",
            "}\n",
            "incarnation: 2063272543092286969\n",
            "physical_device_desc: \"device: 0, name: Tesla K80, pci bus id: 0000:00:04.0, compute capability: 3.7\"\n",
            "]\n"
          ],
          "name": "stdout"
        }
      ]
    },
    {
      "cell_type": "code",
      "metadata": {
        "id": "Gms_tsR2g0sQ",
        "colab_type": "code",
        "colab": {}
      },
      "source": [
        "from tensorflow.keras.datasets import mnist"
      ],
      "execution_count": 3,
      "outputs": []
    },
    {
      "cell_type": "code",
      "metadata": {
        "id": "msQhdzmDh1cQ",
        "colab_type": "code",
        "colab": {
          "base_uri": "https://localhost:8080/",
          "height": 54
        },
        "outputId": "98ccff67-49fb-43e1-f042-cf10ae31c991"
      },
      "source": [
        "train, test = mnist.load_data()"
      ],
      "execution_count": 4,
      "outputs": [
        {
          "output_type": "stream",
          "text": [
            "Downloading data from https://storage.googleapis.com/tensorflow/tf-keras-datasets/mnist.npz\n",
            "11493376/11490434 [==============================] - 0s 0us/step\n"
          ],
          "name": "stdout"
        }
      ]
    },
    {
      "cell_type": "code",
      "metadata": {
        "id": "3c4b5tYCiA9z",
        "colab_type": "code",
        "colab": {
          "base_uri": "https://localhost:8080/",
          "height": 35
        },
        "outputId": "a5f91e95-9462-4354-aeb7-ad6bf7c8e909"
      },
      "source": [
        "len(train)"
      ],
      "execution_count": 5,
      "outputs": [
        {
          "output_type": "execute_result",
          "data": {
            "text/plain": [
              "2"
            ]
          },
          "metadata": {
            "tags": []
          },
          "execution_count": 5
        }
      ]
    },
    {
      "cell_type": "code",
      "metadata": {
        "id": "GaZtyIQxiCmy",
        "colab_type": "code",
        "colab": {
          "base_uri": "https://localhost:8080/",
          "height": 35
        },
        "outputId": "f9e04b58-5018-461f-8e0a-94771299f7c4"
      },
      "source": [
        "type(train[0])"
      ],
      "execution_count": 8,
      "outputs": [
        {
          "output_type": "execute_result",
          "data": {
            "text/plain": [
              "numpy.ndarray"
            ]
          },
          "metadata": {
            "tags": []
          },
          "execution_count": 8
        }
      ]
    },
    {
      "cell_type": "code",
      "metadata": {
        "id": "XXUWSHm7iEKb",
        "colab_type": "code",
        "colab": {
          "base_uri": "https://localhost:8080/",
          "height": 908
        },
        "outputId": "5352f9ad-da21-4d63-8c41-7ef50a347ed7"
      },
      "source": [
        "train[0]"
      ],
      "execution_count": 9,
      "outputs": [
        {
          "output_type": "execute_result",
          "data": {
            "text/plain": [
              "array([[[0, 0, 0, ..., 0, 0, 0],\n",
              "        [0, 0, 0, ..., 0, 0, 0],\n",
              "        [0, 0, 0, ..., 0, 0, 0],\n",
              "        ...,\n",
              "        [0, 0, 0, ..., 0, 0, 0],\n",
              "        [0, 0, 0, ..., 0, 0, 0],\n",
              "        [0, 0, 0, ..., 0, 0, 0]],\n",
              "\n",
              "       [[0, 0, 0, ..., 0, 0, 0],\n",
              "        [0, 0, 0, ..., 0, 0, 0],\n",
              "        [0, 0, 0, ..., 0, 0, 0],\n",
              "        ...,\n",
              "        [0, 0, 0, ..., 0, 0, 0],\n",
              "        [0, 0, 0, ..., 0, 0, 0],\n",
              "        [0, 0, 0, ..., 0, 0, 0]],\n",
              "\n",
              "       [[0, 0, 0, ..., 0, 0, 0],\n",
              "        [0, 0, 0, ..., 0, 0, 0],\n",
              "        [0, 0, 0, ..., 0, 0, 0],\n",
              "        ...,\n",
              "        [0, 0, 0, ..., 0, 0, 0],\n",
              "        [0, 0, 0, ..., 0, 0, 0],\n",
              "        [0, 0, 0, ..., 0, 0, 0]],\n",
              "\n",
              "       ...,\n",
              "\n",
              "       [[0, 0, 0, ..., 0, 0, 0],\n",
              "        [0, 0, 0, ..., 0, 0, 0],\n",
              "        [0, 0, 0, ..., 0, 0, 0],\n",
              "        ...,\n",
              "        [0, 0, 0, ..., 0, 0, 0],\n",
              "        [0, 0, 0, ..., 0, 0, 0],\n",
              "        [0, 0, 0, ..., 0, 0, 0]],\n",
              "\n",
              "       [[0, 0, 0, ..., 0, 0, 0],\n",
              "        [0, 0, 0, ..., 0, 0, 0],\n",
              "        [0, 0, 0, ..., 0, 0, 0],\n",
              "        ...,\n",
              "        [0, 0, 0, ..., 0, 0, 0],\n",
              "        [0, 0, 0, ..., 0, 0, 0],\n",
              "        [0, 0, 0, ..., 0, 0, 0]],\n",
              "\n",
              "       [[0, 0, 0, ..., 0, 0, 0],\n",
              "        [0, 0, 0, ..., 0, 0, 0],\n",
              "        [0, 0, 0, ..., 0, 0, 0],\n",
              "        ...,\n",
              "        [0, 0, 0, ..., 0, 0, 0],\n",
              "        [0, 0, 0, ..., 0, 0, 0],\n",
              "        [0, 0, 0, ..., 0, 0, 0]]], dtype=uint8)"
            ]
          },
          "metadata": {
            "tags": []
          },
          "execution_count": 9
        }
      ]
    },
    {
      "cell_type": "code",
      "metadata": {
        "id": "Bh_jgySLiOd2",
        "colab_type": "code",
        "colab": {
          "base_uri": "https://localhost:8080/",
          "height": 35
        },
        "outputId": "d88ce59d-72fd-4348-8d66-29e35b25551c"
      },
      "source": [
        "# 1 目の要素の形を確認\n",
        "train[0].shape"
      ],
      "execution_count": 11,
      "outputs": [
        {
          "output_type": "execute_result",
          "data": {
            "text/plain": [
              "(60000, 28, 28)"
            ]
          },
          "metadata": {
            "tags": []
          },
          "execution_count": 11
        }
      ]
    },
    {
      "cell_type": "markdown",
      "metadata": {
        "id": "UE5sO5vIiT9_",
        "colab_type": "text"
      },
      "source": [
        "サンプル数 : 60,000\n",
        "\n",
        "高さ (height) : 28\n",
        "\n",
        "幅 (width) : 28\n",
        "\n",
        "チャネル数 (channel) : 1"
      ]
    },
    {
      "cell_type": "code",
      "metadata": {
        "id": "k7xNKsvyifVn",
        "colab_type": "code",
        "colab": {
          "base_uri": "https://localhost:8080/",
          "height": 283
        },
        "outputId": "b81329a6-88a4-439d-a1ce-4f86f704c82c"
      },
      "source": [
        "img = train[0][0]\n",
        "plt.imshow(img, 'gray')"
      ],
      "execution_count": 14,
      "outputs": [
        {
          "output_type": "execute_result",
          "data": {
            "text/plain": [
              "<matplotlib.image.AxesImage at 0x7fcc311df9b0>"
            ]
          },
          "metadata": {
            "tags": []
          },
          "execution_count": 14
        },
        {
          "output_type": "display_data",
          "data": {
            "image/png": "[encoded data removed]",
            "text/plain": [
              "<Figure size 432x288 with 1 Axes>"
            ]
          },
          "metadata": {
            "tags": [],
            "needs_background": "light"
          }
        }
      ]
    },
    {
      "cell_type": "code",
      "metadata": {
        "id": "8tlr7tG8ikzG",
        "colab_type": "code",
        "colab": {
          "base_uri": "https://localhost:8080/",
          "height": 35
        },
        "outputId": "ae77e9b7-f7f3-4186-8a4f-2f0714c0e371"
      },
      "source": [
        "type(train[1])"
      ],
      "execution_count": 15,
      "outputs": [
        {
          "output_type": "execute_result",
          "data": {
            "text/plain": [
              "numpy.ndarray"
            ]
          },
          "metadata": {
            "tags": []
          },
          "execution_count": 15
        }
      ]
    },
    {
      "cell_type": "code",
      "metadata": {
        "id": "6C4GyFK6iuLf",
        "colab_type": "code",
        "colab": {
          "base_uri": "https://localhost:8080/",
          "height": 35
        },
        "outputId": "2a1903b0-6787-4f89-d30f-97f17501fc5d"
      },
      "source": [
        "train[1]"
      ],
      "execution_count": 16,
      "outputs": [
        {
          "output_type": "execute_result",
          "data": {
            "text/plain": [
              "array([5, 0, 4, ..., 5, 6, 8], dtype=uint8)"
            ]
          },
          "metadata": {
            "tags": []
          },
          "execution_count": 16
        }
      ]
    },
    {
      "cell_type": "code",
      "metadata": {
        "id": "2Ke5vzvmizVN",
        "colab_type": "code",
        "colab": {
          "base_uri": "https://localhost:8080/",
          "height": 35
        },
        "outputId": "46e4d33b-ea90-474f-b5dc-93e46464a0c0"
      },
      "source": [
        "train[1].shape"
      ],
      "execution_count": 19,
      "outputs": [
        {
          "output_type": "execute_result",
          "data": {
            "text/plain": [
              "(60000,)"
            ]
          },
          "metadata": {
            "tags": []
          },
          "execution_count": 19
        }
      ]
    },
    {
      "cell_type": "code",
      "metadata": {
        "id": "gqDYrV1Wi4cb",
        "colab_type": "code",
        "colab": {
          "base_uri": "https://localhost:8080/",
          "height": 35
        },
        "outputId": "f4f176c5-edfa-41bb-cc33-8894cd8a9bec"
      },
      "source": [
        "len(test)"
      ],
      "execution_count": 20,
      "outputs": [
        {
          "output_type": "execute_result",
          "data": {
            "text/plain": [
              "2"
            ]
          },
          "metadata": {
            "tags": []
          },
          "execution_count": 20
        }
      ]
    },
    {
      "cell_type": "code",
      "metadata": {
        "id": "BEx-EE7AjEO4",
        "colab_type": "code",
        "colab": {
          "base_uri": "https://localhost:8080/",
          "height": 35
        },
        "outputId": "77591b3d-790a-4f67-85d1-31ff0893e09d"
      },
      "source": [
        "test[1]"
      ],
      "execution_count": 21,
      "outputs": [
        {
          "output_type": "execute_result",
          "data": {
            "text/plain": [
              "array([7, 2, 1, ..., 4, 5, 6], dtype=uint8)"
            ]
          },
          "metadata": {
            "tags": []
          },
          "execution_count": 21
        }
      ]
    },
    {
      "cell_type": "code",
      "metadata": {
        "id": "uNKsoJmYjGPS",
        "colab_type": "code",
        "colab": {
          "base_uri": "https://localhost:8080/",
          "height": 35
        },
        "outputId": "2272e954-7f8a-417d-b16a-e23475e9d58f"
      },
      "source": [
        "test[0].shape"
      ],
      "execution_count": 22,
      "outputs": [
        {
          "output_type": "execute_result",
          "data": {
            "text/plain": [
              "(10000, 28, 28)"
            ]
          },
          "metadata": {
            "tags": []
          },
          "execution_count": 22
        }
      ]
    },
    {
      "cell_type": "markdown",
      "metadata": {
        "id": "SmC0vHYCjfWB",
        "colab_type": "text"
      },
      "source": [
        "**TensorFlow で使用できる形式に変換**\n",
        "\n",
        "**画像データの形を (height, width) から (height, width, channel) へと変換**"
      ]
    },
    {
      "cell_type": "code",
      "metadata": {
        "id": "H_ZEuvwyjJew",
        "colab_type": "code",
        "colab": {}
      },
      "source": [
        "x_train = train[0].reshape(60000, 28, 28, 1)/ 255\n",
        "x_test = test[0].reshape(10000, 28, 28, 1) / 255"
      ],
      "execution_count": 23,
      "outputs": []
    },
    {
      "cell_type": "code",
      "metadata": {
        "id": "re0nkVYajeh3",
        "colab_type": "code",
        "colab": {
          "base_uri": "https://localhost:8080/",
          "height": 35
        },
        "outputId": "3725c97a-85ee-4cd8-ff1c-01d80a06c3f9"
      },
      "source": [
        "x_train[0].shape"
      ],
      "execution_count": 25,
      "outputs": [
        {
          "output_type": "execute_result",
          "data": {
            "text/plain": [
              "(28, 28, 1)"
            ]
          },
          "metadata": {
            "tags": []
          },
          "execution_count": 25
        }
      ]
    },
    {
      "cell_type": "code",
      "metadata": {
        "id": "JOrxh_5kj2z_",
        "colab_type": "code",
        "colab": {
          "base_uri": "https://localhost:8080/",
          "height": 35
        },
        "outputId": "556824bd-36f1-483e-dcbf-17dd3ec81649"
      },
      "source": [
        "x_train[0].min(), x_train[0].max()"
      ],
      "execution_count": 26,
      "outputs": [
        {
          "output_type": "execute_result",
          "data": {
            "text/plain": [
              "(0.0, 1.0)"
            ]
          },
          "metadata": {
            "tags": []
          },
          "execution_count": 26
        }
      ]
    },
    {
      "cell_type": "code",
      "metadata": {
        "id": "jjawwZWRkMuH",
        "colab_type": "code",
        "colab": {}
      },
      "source": [
        "t_train = train[1]\n",
        "t_test = test[1]"
      ],
      "execution_count": 27,
      "outputs": []
    },
    {
      "cell_type": "code",
      "metadata": {
        "id": "0X_aodRdkTV0",
        "colab_type": "code",
        "colab": {}
      },
      "source": [
        "x_train, x_test = x_train.astype('float32'), x_test.astype('float32')\n",
        "t_train, t_test = t_train.astype('int32'), t_test.astype('int32')"
      ],
      "execution_count": 28,
      "outputs": []
    },
    {
      "cell_type": "code",
      "metadata": {
        "id": "Ccq5g9jCksK7",
        "colab_type": "code",
        "colab": {}
      },
      "source": [
        "import os, random\n",
        "\n",
        "def reset_seed(seed=0):\n",
        "    os.environ['PYTHONHASHSEED'] = '0'\n",
        "    random.seed(seed)\n",
        "    np.random.seed(seed)\n",
        "    tf.random.set_seed(seed)"
      ],
      "execution_count": 29,
      "outputs": []
    },
    {
      "cell_type": "code",
      "metadata": {
        "id": "B0k7wtHGk5Sy",
        "colab_type": "code",
        "colab": {}
      },
      "source": [
        "from tensorflow.keras import models, layers\n",
        "\n",
        "reset_seed(0)\n",
        "\n",
        "# モデルの構築\n",
        "model = models.Sequential([\n",
        "    # 特徴量抽出\n",
        "    layers.Conv2D(filters=3, kernel_size=(3, 3), activation='relu', input_shape=(28, 28, 1)),\n",
        "    layers.MaxPool2D(pool_size=(2, 2)),\n",
        "    # ベクトル化\n",
        "    layers.Flatten(),\n",
        "    # 識別\n",
        "    layers.Dense(100, activation='relu'),\n",
        "    layers.Dense(10, activation='softmax')\n",
        "])"
      ],
      "execution_count": 31,
      "outputs": []
    },
    {
      "cell_type": "code",
      "metadata": {
        "id": "xijmyYNHmEWX",
        "colab_type": "code",
        "colab": {
          "base_uri": "https://localhost:8080/",
          "height": 345
        },
        "outputId": "10b5b0cc-8719-4fed-9729-e1821fc4940f"
      },
      "source": [
        "model.summary()"
      ],
      "execution_count": 32,
      "outputs": [
        {
          "output_type": "stream",
          "text": [
            "Model: \"sequential\"\n",
            "_________________________________________________________________\n",
            "Layer (type)                 Output Shape              Param #   \n",
            "=================================================================\n",
            "conv2d (Conv2D)              (None, 26, 26, 3)         30        \n",
            "_________________________________________________________________\n",
            "max_pooling2d (MaxPooling2D) (None, 13, 13, 3)         0         \n",
            "_________________________________________________________________\n",
            "flatten (Flatten)            (None, 507)               0         \n",
            "_________________________________________________________________\n",
            "dense (Dense)                (None, 100)               50800     \n",
            "_________________________________________________________________\n",
            "dense_1 (Dense)              (None, 10)                1010      \n",
            "=================================================================\n",
            "Total params: 51,840\n",
            "Trainable params: 51,840\n",
            "Non-trainable params: 0\n",
            "_________________________________________________________________\n"
          ],
          "name": "stdout"
        }
      ]
    },
    {
      "cell_type": "markdown",
      "metadata": {
        "id": "OPAZaPInma1O",
        "colab_type": "text"
      },
      "source": [
        "カーネルのサイズ : 3×3\n",
        "\n",
        "入力のチャネル数 : 11\n",
        "\n",
        "出力のチャネル数 : 33\n",
        "\n",
        "重みの数 : 3×3×1×3=27\n",
        "\n",
        "バイアスの数 : 33\n",
        "\n",
        "合計のパラメータの数 : 27+3=30"
      ]
    },
    {
      "cell_type": "code",
      "metadata": {
        "id": "p0uvYhGJmRgy",
        "colab_type": "code",
        "colab": {
          "base_uri": "https://localhost:8080/",
          "height": 564
        },
        "outputId": "41d8d9ee-6191-4f65-caf1-402ab0ea9fa4"
      },
      "source": [
        "from tensorflow.keras.utils import plot_model\n",
        "plot_model(model)"
      ],
      "execution_count": 34,
      "outputs": [
        {
          "output_type": "execute_result",
          "data": {
            "image/png": "[encoded data removed]",
            "text/plain": [
              "<IPython.core.display.Image object>"
            ]
          },
          "metadata": {
            "tags": []
          },
          "execution_count": 34
        }
      ]
    },
    {
      "cell_type": "code",
      "metadata": {
        "id": "WOXv20B_m31L",
        "colab_type": "code",
        "colab": {}
      },
      "source": [
        "# optimizerの設定\n",
        "optimizer = tf.keras.optimizers.Adam(lr=0.01)\n",
        "\n",
        "# モデルのコンパイル\n",
        "model.compile(optimizer=optimizer,\n",
        "              loss='sparse_categorical_crossentropy',\n",
        "              metrics=['accuracy'])"
      ],
      "execution_count": 37,
      "outputs": []
    },
    {
      "cell_type": "code",
      "metadata": {
        "id": "G37D4k0Anr6J",
        "colab_type": "code",
        "colab": {
          "base_uri": "https://localhost:8080/",
          "height": 1000
        },
        "outputId": "4b574fb2-a593-4ce5-ca34-684a4c5a733e"
      },
      "source": [
        "batch_size = 4096\n",
        "epochs = 30\n",
        "\n",
        "history = model.fit(x_train, t_train,\n",
        "                    batch_size=batch_size,\n",
        "                    epochs=epochs, verbose=1,\n",
        "                    validation_data=(x_test, t_test))"
      ],
      "execution_count": 38,
      "outputs": [
        {
          "output_type": "stream",
          "text": [
            "Epoch 1/30\n",
            "15/15 [==============================] - 1s 46ms/step - loss: 0.8988 - accuracy: 0.7390 - val_loss: 0.3954 - val_accuracy: 0.8911\n",
            "Epoch 2/30\n",
            "15/15 [==============================] - 0s 24ms/step - loss: 0.3349 - accuracy: 0.9030 - val_loss: 0.2814 - val_accuracy: 0.9166\n",
            "Epoch 3/30\n",
            "15/15 [==============================] - 0s 23ms/step - loss: 0.2482 - accuracy: 0.9259 - val_loss: 0.2085 - val_accuracy: 0.9362\n",
            "Epoch 4/30\n",
            "15/15 [==============================] - 0s 22ms/step - loss: 0.1983 - accuracy: 0.9413 - val_loss: 0.1792 - val_accuracy: 0.9432\n",
            "Epoch 5/30\n",
            "15/15 [==============================] - 0s 22ms/step - loss: 0.1636 - accuracy: 0.9509 - val_loss: 0.1536 - val_accuracy: 0.9534\n",
            "Epoch 6/30\n",
            "15/15 [==============================] - 0s 23ms/step - loss: 0.1396 - accuracy: 0.9580 - val_loss: 0.1282 - val_accuracy: 0.9606\n",
            "Epoch 7/30\n",
            "15/15 [==============================] - 0s 22ms/step - loss: 0.1210 - accuracy: 0.9636 - val_loss: 0.1178 - val_accuracy: 0.9645\n",
            "Epoch 8/30\n",
            "15/15 [==============================] - 0s 22ms/step - loss: 0.1064 - accuracy: 0.9680 - val_loss: 0.1081 - val_accuracy: 0.9666\n",
            "Epoch 9/30\n",
            "15/15 [==============================] - 0s 22ms/step - loss: 0.0988 - accuracy: 0.9696 - val_loss: 0.1017 - val_accuracy: 0.9696\n",
            "Epoch 10/30\n",
            "15/15 [==============================] - 0s 23ms/step - loss: 0.0866 - accuracy: 0.9737 - val_loss: 0.0992 - val_accuracy: 0.9698\n",
            "Epoch 11/30\n",
            "15/15 [==============================] - 0s 23ms/step - loss: 0.0794 - accuracy: 0.9755 - val_loss: 0.0897 - val_accuracy: 0.9723\n",
            "Epoch 12/30\n",
            "15/15 [==============================] - 0s 23ms/step - loss: 0.0733 - accuracy: 0.9775 - val_loss: 0.0867 - val_accuracy: 0.9731\n",
            "Epoch 13/30\n",
            "15/15 [==============================] - 0s 22ms/step - loss: 0.0660 - accuracy: 0.9800 - val_loss: 0.0822 - val_accuracy: 0.9741\n",
            "Epoch 14/30\n",
            "15/15 [==============================] - 0s 22ms/step - loss: 0.0621 - accuracy: 0.9811 - val_loss: 0.0798 - val_accuracy: 0.9746\n",
            "Epoch 15/30\n",
            "15/15 [==============================] - 0s 22ms/step - loss: 0.0555 - accuracy: 0.9835 - val_loss: 0.0750 - val_accuracy: 0.9769\n",
            "Epoch 16/30\n",
            "15/15 [==============================] - 0s 22ms/step - loss: 0.0516 - accuracy: 0.9841 - val_loss: 0.0776 - val_accuracy: 0.9758\n",
            "Epoch 17/30\n",
            "15/15 [==============================] - 0s 23ms/step - loss: 0.0484 - accuracy: 0.9854 - val_loss: 0.0716 - val_accuracy: 0.9773\n",
            "Epoch 18/30\n",
            "15/15 [==============================] - 0s 22ms/step - loss: 0.0468 - accuracy: 0.9856 - val_loss: 0.0740 - val_accuracy: 0.9764\n",
            "Epoch 19/30\n",
            "15/15 [==============================] - 0s 22ms/step - loss: 0.0480 - accuracy: 0.9848 - val_loss: 0.0779 - val_accuracy: 0.9769\n",
            "Epoch 20/30\n",
            "15/15 [==============================] - 0s 24ms/step - loss: 0.0425 - accuracy: 0.9865 - val_loss: 0.0701 - val_accuracy: 0.9780\n",
            "Epoch 21/30\n",
            "15/15 [==============================] - 0s 23ms/step - loss: 0.0378 - accuracy: 0.9883 - val_loss: 0.0710 - val_accuracy: 0.9777\n",
            "Epoch 22/30\n",
            "15/15 [==============================] - 0s 22ms/step - loss: 0.0365 - accuracy: 0.9890 - val_loss: 0.0684 - val_accuracy: 0.9788\n",
            "Epoch 23/30\n",
            "15/15 [==============================] - 0s 22ms/step - loss: 0.0309 - accuracy: 0.9906 - val_loss: 0.0668 - val_accuracy: 0.9790\n",
            "Epoch 24/30\n",
            "15/15 [==============================] - 0s 22ms/step - loss: 0.0304 - accuracy: 0.9908 - val_loss: 0.0687 - val_accuracy: 0.9792\n",
            "Epoch 25/30\n",
            "15/15 [==============================] - 0s 22ms/step - loss: 0.0267 - accuracy: 0.9921 - val_loss: 0.0658 - val_accuracy: 0.9802\n",
            "Epoch 26/30\n",
            "15/15 [==============================] - 0s 22ms/step - loss: 0.0263 - accuracy: 0.9920 - val_loss: 0.0743 - val_accuracy: 0.9782\n",
            "Epoch 27/30\n",
            "15/15 [==============================] - 0s 22ms/step - loss: 0.0269 - accuracy: 0.9916 - val_loss: 0.0667 - val_accuracy: 0.9817\n",
            "Epoch 28/30\n",
            "15/15 [==============================] - 0s 23ms/step - loss: 0.0227 - accuracy: 0.9931 - val_loss: 0.0695 - val_accuracy: 0.9802\n",
            "Epoch 29/30\n",
            "15/15 [==============================] - 0s 22ms/step - loss: 0.0228 - accuracy: 0.9929 - val_loss: 0.0741 - val_accuracy: 0.9792\n",
            "Epoch 30/30\n",
            "15/15 [==============================] - 0s 20ms/step - loss: 0.0242 - accuracy: 0.9922 - val_loss: 0.0681 - val_accuracy: 0.9811\n"
          ],
          "name": "stdout"
        }
      ]
    },
    {
      "cell_type": "code",
      "metadata": {
        "id": "xvHP5M6Uogjv",
        "colab_type": "code",
        "colab": {
          "base_uri": "https://localhost:8080/",
          "height": 35
        },
        "outputId": "ce9aa6e9-67a0-462d-a6c2-bc179a47ef7c"
      },
      "source": [
        "!nvidea-smi"
      ],
      "execution_count": 39,
      "outputs": [
        {
          "output_type": "stream",
          "text": [
            "/bin/bash: nvidea-smi: command not found\n"
          ],
          "name": "stdout"
        }
      ]
    },
    {
      "cell_type": "code",
      "metadata": {
        "id": "sWmgaxK4opyc",
        "colab_type": "code",
        "colab": {
          "base_uri": "https://localhost:8080/",
          "height": 138
        },
        "outputId": "cd6d2f74-2e23-489b-a77c-07aac2d436c9"
      },
      "source": [
        "# 学習結果を確認\n",
        "results = pd.DataFrame(history.history)\n",
        "results.tail(3)"
      ],
      "execution_count": 40,
      "outputs": [
        {
          "output_type": "execute_result",
          "data": {
            "text/html": [
              "<div>\n",
              "<style scoped>\n",
              "    .dataframe tbody tr th:only-of-type {\n",
              "        vertical-align: middle;\n",
              "    }\n",
              "\n",
              "    .dataframe tbody tr th {\n",
              "        vertical-align: top;\n",
              "    }\n",
              "\n",
              "    .dataframe thead th {\n",
              "        text-align: right;\n",
              "    }\n",
              "</style>\n",
              "<table border=\"1\" class=\"dataframe\">\n",
              "  <thead>\n",
              "    <tr style=\"text-align: right;\">\n",
              "      <th></th>\n",
              "      <th>loss</th>\n",
              "      <th>accuracy</th>\n",
              "      <th>val_loss</th>\n",
              "      <th>val_accuracy</th>\n",
              "    </tr>\n",
              "  </thead>\n",
              "  <tbody>\n",
              "    <tr>\n",
              "      <th>27</th>\n",
              "      <td>0.022654</td>\n",
              "      <td>0.993150</td>\n",
              "      <td>0.069537</td>\n",
              "      <td>0.9802</td>\n",
              "    </tr>\n",
              "    <tr>\n",
              "      <th>28</th>\n",
              "      <td>0.022764</td>\n",
              "      <td>0.992867</td>\n",
              "      <td>0.074131</td>\n",
              "      <td>0.9792</td>\n",
              "    </tr>\n",
              "    <tr>\n",
              "      <th>29</th>\n",
              "      <td>0.024245</td>\n",
              "      <td>0.992217</td>\n",
              "      <td>0.068089</td>\n",
              "      <td>0.9811</td>\n",
              "    </tr>\n",
              "  </tbody>\n",
              "</table>\n",
              "</div>"
            ],
            "text/plain": [
              "        loss  accuracy  val_loss  val_accuracy\n",
              "27  0.022654  0.993150  0.069537        0.9802\n",
              "28  0.022764  0.992867  0.074131        0.9792\n",
              "29  0.024245  0.992217  0.068089        0.9811"
            ]
          },
          "metadata": {
            "tags": []
          },
          "execution_count": 40
        }
      ]
    },
    {
      "cell_type": "code",
      "metadata": {
        "id": "yiTKrunoo1rR",
        "colab_type": "code",
        "colab": {
          "base_uri": "https://localhost:8080/",
          "height": 295
        },
        "outputId": "c849d715-9dc4-4f97-dfa0-44410e236cb2"
      },
      "source": [
        "# 損失を可視化\n",
        "results[['loss', 'val_loss']].plot(title='loss')\n",
        "plt.xlabel('epochs');"
      ],
      "execution_count": 42,
      "outputs": [
        {
          "output_type": "display_data",
          "data": {
            "image/png": "[encoded data removed]",
            "text/plain": [
              "<Figure size 432x288 with 1 Axes>"
            ]
          },
          "metadata": {
            "tags": [],
            "needs_background": "light"
          }
        }
      ]
    },
    {
      "cell_type": "code",
      "metadata": {
        "id": "ulfT2jIwpG1u",
        "colab_type": "code",
        "colab": {
          "base_uri": "https://localhost:8080/",
          "height": 313
        },
        "outputId": "2a25ed5f-3fe3-4c2c-ae98-90e9625c6660"
      },
      "source": [
        "# 正解率を可視化\n",
        "results[['accuracy', 'val_accuracy']].plot(title='accuracy')\n",
        "plt.xlabel('epochs')"
      ],
      "execution_count": 43,
      "outputs": [
        {
          "output_type": "execute_result",
          "data": {
            "text/plain": [
              "Text(0.5, 0, 'epochs')"
            ]
          },
          "metadata": {
            "tags": []
          },
          "execution_count": 43
        },
        {
          "output_type": "display_data",
          "data": {
            "image/png": "[encoded data removed]",
            "text/plain": [
              "<Figure size 432x288 with 1 Axes>"
            ]
          },
          "metadata": {
            "tags": [],
            "needs_background": "light"
          }
        }
      ]
    },
    {
      "cell_type": "code",
      "metadata": {
        "id": "Mt1E8oALpnV8",
        "colab_type": "code",
        "colab": {
          "base_uri": "https://localhost:8080/",
          "height": 35
        },
        "outputId": "7ffabe21-b768-4add-e61a-18d63a14de71"
      },
      "source": [
        "# 推論に使用するデータを切り出し + バッチサイズの追加\n",
        "x_sample = np.array([x_train[0]])\n",
        "x_sample.shape"
      ],
      "execution_count": 45,
      "outputs": [
        {
          "output_type": "execute_result",
          "data": {
            "text/plain": [
              "(1, 28, 28, 1)"
            ]
          },
          "metadata": {
            "tags": []
          },
          "execution_count": 45
        }
      ]
    },
    {
      "cell_type": "code",
      "metadata": {
        "id": "GHG-4cf6p4-j",
        "colab_type": "code",
        "colab": {
          "base_uri": "https://localhost:8080/",
          "height": 108
        },
        "outputId": "95d2eee5-3cce-476b-80b8-60572a490e6c"
      },
      "source": [
        "model.layers"
      ],
      "execution_count": 46,
      "outputs": [
        {
          "output_type": "execute_result",
          "data": {
            "text/plain": [
              "[<tensorflow.python.keras.layers.convolutional.Conv2D at 0x7fcc72f21fd0>,\n",
              " <tensorflow.python.keras.layers.pooling.MaxPooling2D at 0x7fcc2262fb38>,\n",
              " <tensorflow.python.keras.layers.core.Flatten at 0x7fcc2262fcc0>,\n",
              " <tensorflow.python.keras.layers.core.Dense at 0x7fcc2262fe48>,\n",
              " <tensorflow.python.keras.layers.core.Dense at 0x7fcc2263d0f0>]"
            ]
          },
          "metadata": {
            "tags": []
          },
          "execution_count": 46
        }
      ]
    },
    {
      "cell_type": "markdown",
      "metadata": {
        "id": "QgLxHpIvrN2K",
        "colab_type": "text"
      },
      "source": [
        "**層のインデックス番号を使用すると特定の層の取り出しを行うことが可能**"
      ]
    },
    {
      "cell_type": "code",
      "metadata": {
        "id": "V6GVjxxpqEKS",
        "colab_type": "code",
        "colab": {
          "base_uri": "https://localhost:8080/",
          "height": 381
        },
        "outputId": "c358d868-da59-47ec-ff88-a3ab44fe7ed9"
      },
      "source": [
        "model.layers[0].get_weights()"
      ],
      "execution_count": 48,
      "outputs": [
        {
          "output_type": "execute_result",
          "data": {
            "text/plain": [
              "[array([[[[-0.8363724 , -0.7892009 ,  0.33914393]],\n",
              " \n",
              "         [[ 0.31432995, -0.3108211 ,  0.55960107]],\n",
              " \n",
              "         [[ 0.51118994,  0.58993924,  0.25651917]]],\n",
              " \n",
              " \n",
              "        [[[-0.8880287 , -0.3311419 ,  0.3692685 ]],\n",
              " \n",
              "         [[-0.139109  ,  0.07808543,  0.26560107]],\n",
              " \n",
              "         [[ 0.65712935,  0.62146616,  0.2900871 ]]],\n",
              " \n",
              " \n",
              "        [[[-0.14111704, -0.25058818, -0.32028687]],\n",
              " \n",
              "         [[-0.82912403,  0.5407418 ,  0.29797232]],\n",
              " \n",
              "         [[ 0.37739643,  0.07436908,  0.39594403]]]], dtype=float32),\n",
              " array([ 0.08632094,  0.00589891, -0.01533376], dtype=float32)]"
            ]
          },
          "metadata": {
            "tags": []
          },
          "execution_count": 48
        }
      ]
    },
    {
      "cell_type": "code",
      "metadata": {
        "id": "SxhfKOHQqJI-",
        "colab_type": "code",
        "colab": {}
      },
      "source": [
        "output = model.layers[0](x_sample) # convolution 層の計算(1層目)\n",
        "output = output[0].numpy() # NumPy の ndarray オブジェクトに変換"
      ],
      "execution_count": 64,
      "outputs": []
    },
    {
      "cell_type": "code",
      "metadata": {
        "id": "EqZH8hUGqaFv",
        "colab_type": "code",
        "colab": {
          "base_uri": "https://localhost:8080/",
          "height": 35
        },
        "outputId": "70201195-5c7b-44c8-ca6b-851c276cf814"
      },
      "source": [
        "output.shape"
      ],
      "execution_count": 55,
      "outputs": [
        {
          "output_type": "execute_result",
          "data": {
            "text/plain": [
              "(26, 26, 3)"
            ]
          },
          "metadata": {
            "tags": []
          },
          "execution_count": 55
        }
      ]
    },
    {
      "cell_type": "code",
      "metadata": {
        "id": "iDvScB-jqlSs",
        "colab_type": "code",
        "colab": {
          "base_uri": "https://localhost:8080/",
          "height": 283
        },
        "outputId": "87126594-cee5-4963-c95d-e9fda0ed4eee"
      },
      "source": [
        "# 1 つ目の出力\n",
        "plt.imshow(output[:, :, 0], 'gray')"
      ],
      "execution_count": 65,
      "outputs": [
        {
          "output_type": "execute_result",
          "data": {
            "text/plain": [
              "<matplotlib.image.AxesImage at 0x7fcc20331c18>"
            ]
          },
          "metadata": {
            "tags": []
          },
          "execution_count": 65
        },
        {
          "output_type": "display_data",
          "data": {
            "image/png": "[encoded data removed]",
            "text/plain": [
              "<Figure size 432x288 with 1 Axes>"
            ]
          },
          "metadata": {
            "tags": [],
            "needs_background": "light"
          }
        }
      ]
    },
    {
      "cell_type": "code",
      "metadata": {
        "id": "WieBLoJkqzzY",
        "colab_type": "code",
        "colab": {
          "base_uri": "https://localhost:8080/",
          "height": 265
        },
        "outputId": "9dda6f4f-3719-41c9-add5-55939e82dd91"
      },
      "source": [
        "# 2 つ目の出力\n",
        "plt.imshow(output[:, :, 1], cmap='gray');"
      ],
      "execution_count": 66,
      "outputs": [
        {
          "output_type": "display_data",
          "data": {
            "image/png": "[encoded data removed]",
            "text/plain": [
              "<Figure size 432x288 with 1 Axes>"
            ]
          },
          "metadata": {
            "tags": [],
            "needs_background": "light"
          }
        }
      ]
    },
    {
      "cell_type": "code",
      "metadata": {
        "id": "y2zMhLovrC2y",
        "colab_type": "code",
        "colab": {
          "base_uri": "https://localhost:8080/",
          "height": 265
        },
        "outputId": "ae0ed5f0-3a67-4a74-a53a-6a9aca6d9ff1"
      },
      "source": [
        "# 3 つ目の出力\n",
        "plt.imshow(output[:, :, 2], cmap='gray');"
      ],
      "execution_count": 67,
      "outputs": [
        {
          "output_type": "display_data",
          "data": {
            "image/png": "[encoded data removed]",
            "text/plain": [
              "<Figure size 432x288 with 1 Axes>"
            ]
          },
          "metadata": {
            "tags": [],
            "needs_background": "light"
          }
        }
      ]
    },
    {
      "cell_type": "code",
      "metadata": {
        "id": "rAOudQy2ruAz",
        "colab_type": "code",
        "colab": {}
      },
      "source": [
        "output = model.layers[0](x_sample)\n",
        "output = model.layers[1](output)\n",
        "output = output[0].numpy()"
      ],
      "execution_count": 68,
      "outputs": []
    },
    {
      "cell_type": "code",
      "metadata": {
        "id": "CLLVoHn1sSmQ",
        "colab_type": "code",
        "colab": {
          "base_uri": "https://localhost:8080/",
          "height": 35
        },
        "outputId": "433d2f07-60e0-4553-dd5c-fafdc5b3c0b6"
      },
      "source": [
        "output.shape"
      ],
      "execution_count": 69,
      "outputs": [
        {
          "output_type": "execute_result",
          "data": {
            "text/plain": [
              "(13, 13, 3)"
            ]
          },
          "metadata": {
            "tags": []
          },
          "execution_count": 69
        }
      ]
    },
    {
      "cell_type": "code",
      "metadata": {
        "id": "CevsR3qwsTz3",
        "colab_type": "code",
        "colab": {
          "base_uri": "https://localhost:8080/",
          "height": 265
        },
        "outputId": "ea92afcd-04d6-456d-86c0-516648de9d62"
      },
      "source": [
        "# 1 つ目の出力\n",
        "plt.imshow(output[:, :, 0], 'gray');"
      ],
      "execution_count": 70,
      "outputs": [
        {
          "output_type": "display_data",
          "data": {
            "image/png": "[encoded data removed]",
            "text/plain": [
              "<Figure size 432x288 with 1 Axes>"
            ]
          },
          "metadata": {
            "tags": [],
            "needs_background": "light"
          }
        }
      ]
    },
    {
      "cell_type": "code",
      "metadata": {
        "id": "rxCEGOQNsfyb",
        "colab_type": "code",
        "colab": {
          "base_uri": "https://localhost:8080/",
          "height": 265
        },
        "outputId": "4cb06d33-eff6-4178-9063-c9cc002c9043"
      },
      "source": [
        "# 2 つ目の出力\n",
        "plt.imshow(output[:, :, 1], cmap='gray');"
      ],
      "execution_count": 71,
      "outputs": [
        {
          "output_type": "display_data",
          "data": {
            "image/png": "[encoded data removed]",
            "text/plain": [
              "<Figure size 432x288 with 1 Axes>"
            ]
          },
          "metadata": {
            "tags": [],
            "needs_background": "light"
          }
        }
      ]
    },
    {
      "cell_type": "code",
      "metadata": {
        "id": "GrlO3oIQsmzB",
        "colab_type": "code",
        "colab": {
          "base_uri": "https://localhost:8080/",
          "height": 265
        },
        "outputId": "509a559f-0e65-41c3-c09d-f751c6d66311"
      },
      "source": [
        "# 3 つ目の出力\n",
        "plt.imshow(output[:, :, 2], cmap='gray');"
      ],
      "execution_count": 72,
      "outputs": [
        {
          "output_type": "display_data",
          "data": {
            "image/png": "[encoded data removed]",
            "text/plain": [
              "<Figure size 432x288 with 1 Axes>"
            ]
          },
          "metadata": {
            "tags": [],
            "needs_background": "light"
          }
        }
      ]
    },
    {
      "cell_type": "markdown",
      "metadata": {
        "id": "z1kVLUX9s2nu",
        "colab_type": "text"
      },
      "source": [
        "出力の形は (13, 13, 3)\n",
        "\n",
        "**507 次元のベクトルに変換されていることを確認**"
      ]
    },
    {
      "cell_type": "code",
      "metadata": {
        "id": "-g2JMUPxsugG",
        "colab_type": "code",
        "colab": {}
      },
      "source": [
        "output = model.layers[0](x_sample) # convolution 層の計算\n",
        "output = model.layers[1](output) # pooling 層の計算（サイズを 1/2 に変換）\n",
        "output = model.layers[2](output) # ベクトル化\n",
        "output = output[0].numpy()"
      ],
      "execution_count": 77,
      "outputs": []
    },
    {
      "cell_type": "code",
      "metadata": {
        "id": "aMbk8yVgtaLG",
        "colab_type": "code",
        "colab": {
          "base_uri": "https://localhost:8080/",
          "height": 35
        },
        "outputId": "f36d04c3-da46-4b7b-c89d-9adbc5b313c8"
      },
      "source": [
        "output.shape"
      ],
      "execution_count": 76,
      "outputs": [
        {
          "output_type": "execute_result",
          "data": {
            "text/plain": [
              "(507,)"
            ]
          },
          "metadata": {
            "tags": []
          },
          "execution_count": 76
        }
      ]
    },
    {
      "cell_type": "code",
      "metadata": {
        "id": "Qp7R6V2vtdB8",
        "colab_type": "code",
        "colab": {}
      },
      "source": [
        ""
      ],
      "execution_count": null,
      "outputs": []
    }
  ]
}