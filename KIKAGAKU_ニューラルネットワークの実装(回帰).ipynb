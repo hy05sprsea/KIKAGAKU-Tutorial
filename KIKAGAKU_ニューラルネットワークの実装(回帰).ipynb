{
  "nbformat": 4,
  "nbformat_minor": 0,
  "metadata": {
    "colab": {
      "name": "KIKAGAKU-ニューラルネットワークの実装(回帰).ipynb",
      "provenance": [],
      "authorship_tag": "ABX9TyP0l7qKWA3gCafHRxI1KhY+",
      "include_colab_link": true
    },
    "kernelspec": {
      "name": "python3",
      "display_name": "Python 3"
    }
  },
  "cells": [
    {
      "cell_type": "markdown",
      "metadata": {
        "id": "view-in-github",
        "colab_type": "text"
      },
      "source": [
        "<a href=\"https://colab.research.google.com/github/hy05sprsea/KIKAGAKU-Tutorial/blob/master/KIKAGAKU_%E3%83%8B%E3%83%A5%E3%83%BC%E3%83%A9%E3%83%AB%E3%83%8D%E3%83%83%E3%83%88%E3%83%AF%E3%83%BC%E3%82%AF%E3%81%AE%E5%AE%9F%E8%A3%85(%E5%9B%9E%E5%B8%B0).ipynb\" target=\"_parent\"><img src=\"https://colab.research.google.com/assets/colab-badge.svg\" alt=\"Open In Colab\"/></a>"
      ]
    },
    {
      "cell_type": "code",
      "metadata": {
        "id": "jKc9eYEAfIeI",
        "colab_type": "code",
        "colab": {}
      },
      "source": [
        "import numpy as np\n",
        "import pandas as pd\n",
        "import matplotlib.pyplot as plt\n",
        "import tensorflow as tf"
      ],
      "execution_count": 2,
      "outputs": []
    },
    {
      "cell_type": "code",
      "metadata": {
        "id": "Frw1_4gifXOs",
        "colab_type": "code",
        "colab": {
          "base_uri": "https://localhost:8080/",
          "height": 54
        },
        "outputId": "48b6ba17-9e05-4d15-b4e6-8fe818c361bd"
      },
      "source": [
        "# データセットの準備\n",
        "dataset = tf.keras.datasets.boston_housing\n",
        "train, test = dataset.load_data()"
      ],
      "execution_count": 3,
      "outputs": [
        {
          "output_type": "stream",
          "text": [
            "Downloading data from https://storage.googleapis.com/tensorflow/tf-keras-datasets/boston_housing.npz\n",
            "57344/57026 [==============================] - 0s 0us/step\n"
          ],
          "name": "stdout"
        }
      ]
    },
    {
      "cell_type": "code",
      "metadata": {
        "id": "p0T8zCxMfb5z",
        "colab_type": "code",
        "colab": {
          "base_uri": "https://localhost:8080/",
          "height": 926
        },
        "outputId": "ea5dc4d3-911f-42cd-e739-54ff93c4d751"
      },
      "source": [
        "train"
      ],
      "execution_count": 4,
      "outputs": [
        {
          "output_type": "execute_result",
          "data": {
            "text/plain": [
              "(array([[1.23247e+00, 0.00000e+00, 8.14000e+00, ..., 2.10000e+01,\n",
              "         3.96900e+02, 1.87200e+01],\n",
              "        [2.17700e-02, 8.25000e+01, 2.03000e+00, ..., 1.47000e+01,\n",
              "         3.95380e+02, 3.11000e+00],\n",
              "        [4.89822e+00, 0.00000e+00, 1.81000e+01, ..., 2.02000e+01,\n",
              "         3.75520e+02, 3.26000e+00],\n",
              "        ...,\n",
              "        [3.46600e-02, 3.50000e+01, 6.06000e+00, ..., 1.69000e+01,\n",
              "         3.62250e+02, 7.83000e+00],\n",
              "        [2.14918e+00, 0.00000e+00, 1.95800e+01, ..., 1.47000e+01,\n",
              "         2.61950e+02, 1.57900e+01],\n",
              "        [1.43900e-02, 6.00000e+01, 2.93000e+00, ..., 1.56000e+01,\n",
              "         3.76700e+02, 4.38000e+00]]),\n",
              " array([15.2, 42.3, 50. , 21.1, 17.7, 18.5, 11.3, 15.6, 15.6, 14.4, 12.1,\n",
              "        17.9, 23.1, 19.9, 15.7,  8.8, 50. , 22.5, 24.1, 27.5, 10.9, 30.8,\n",
              "        32.9, 24. , 18.5, 13.3, 22.9, 34.7, 16.6, 17.5, 22.3, 16.1, 14.9,\n",
              "        23.1, 34.9, 25. , 13.9, 13.1, 20.4, 20. , 15.2, 24.7, 22.2, 16.7,\n",
              "        12.7, 15.6, 18.4, 21. , 30.1, 15.1, 18.7,  9.6, 31.5, 24.8, 19.1,\n",
              "        22. , 14.5, 11. , 32. , 29.4, 20.3, 24.4, 14.6, 19.5, 14.1, 14.3,\n",
              "        15.6, 10.5,  6.3, 19.3, 19.3, 13.4, 36.4, 17.8, 13.5, 16.5,  8.3,\n",
              "        14.3, 16. , 13.4, 28.6, 43.5, 20.2, 22. , 23. , 20.7, 12.5, 48.5,\n",
              "        14.6, 13.4, 23.7, 50. , 21.7, 39.8, 38.7, 22.2, 34.9, 22.5, 31.1,\n",
              "        28.7, 46. , 41.7, 21. , 26.6, 15. , 24.4, 13.3, 21.2, 11.7, 21.7,\n",
              "        19.4, 50. , 22.8, 19.7, 24.7, 36.2, 14.2, 18.9, 18.3, 20.6, 24.6,\n",
              "        18.2,  8.7, 44. , 10.4, 13.2, 21.2, 37. , 30.7, 22.9, 20. , 19.3,\n",
              "        31.7, 32. , 23.1, 18.8, 10.9, 50. , 19.6,  5. , 14.4, 19.8, 13.8,\n",
              "        19.6, 23.9, 24.5, 25. , 19.9, 17.2, 24.6, 13.5, 26.6, 21.4, 11.9,\n",
              "        22.6, 19.6,  8.5, 23.7, 23.1, 22.4, 20.5, 23.6, 18.4, 35.2, 23.1,\n",
              "        27.9, 20.6, 23.7, 28. , 13.6, 27.1, 23.6, 20.6, 18.2, 21.7, 17.1,\n",
              "         8.4, 25.3, 13.8, 22.2, 18.4, 20.7, 31.6, 30.5, 20.3,  8.8, 19.2,\n",
              "        19.4, 23.1, 23. , 14.8, 48.8, 22.6, 33.4, 21.1, 13.6, 32.2, 13.1,\n",
              "        23.4, 18.9, 23.9, 11.8, 23.3, 22.8, 19.6, 16.7, 13.4, 22.2, 20.4,\n",
              "        21.8, 26.4, 14.9, 24.1, 23.8, 12.3, 29.1, 21. , 19.5, 23.3, 23.8,\n",
              "        17.8, 11.5, 21.7, 19.9, 25. , 33.4, 28.5, 21.4, 24.3, 27.5, 33.1,\n",
              "        16.2, 23.3, 48.3, 22.9, 22.8, 13.1, 12.7, 22.6, 15. , 15.3, 10.5,\n",
              "        24. , 18.5, 21.7, 19.5, 33.2, 23.2,  5. , 19.1, 12.7, 22.3, 10.2,\n",
              "        13.9, 16.3, 17. , 20.1, 29.9, 17.2, 37.3, 45.4, 17.8, 23.2, 29. ,\n",
              "        22. , 18. , 17.4, 34.6, 20.1, 25. , 15.6, 24.8, 28.2, 21.2, 21.4,\n",
              "        23.8, 31. , 26.2, 17.4, 37.9, 17.5, 20. ,  8.3, 23.9,  8.4, 13.8,\n",
              "         7.2, 11.7, 17.1, 21.6, 50. , 16.1, 20.4, 20.6, 21.4, 20.6, 36.5,\n",
              "         8.5, 24.8, 10.8, 21.9, 17.3, 18.9, 36.2, 14.9, 18.2, 33.3, 21.8,\n",
              "        19.7, 31.6, 24.8, 19.4, 22.8,  7.5, 44.8, 16.8, 18.7, 50. , 50. ,\n",
              "        19.5, 20.1, 50. , 17.2, 20.8, 19.3, 41.3, 20.4, 20.5, 13.8, 16.5,\n",
              "        23.9, 20.6, 31.5, 23.3, 16.8, 14. , 33.8, 36.1, 12.8, 18.3, 18.7,\n",
              "        19.1, 29. , 30.1, 50. , 50. , 22. , 11.9, 37.6, 50. , 22.7, 20.8,\n",
              "        23.5, 27.9, 50. , 19.3, 23.9, 22.6, 15.2, 21.7, 19.2, 43.8, 20.3,\n",
              "        33.2, 19.9, 22.5, 32.7, 22. , 17.1, 19. , 15. , 16.1, 25.1, 23.7,\n",
              "        28.7, 37.2, 22.6, 16.4, 25. , 29.8, 22.1, 17.4, 18.1, 30.3, 17.5,\n",
              "        24.7, 12.6, 26.5, 28.7, 13.3, 10.4, 24.4, 23. , 20. , 17.8,  7. ,\n",
              "        11.8, 24.4, 13.8, 19.4, 25.2, 19.4, 19.4, 29.1]))"
            ]
          },
          "metadata": {
            "tags": []
          },
          "execution_count": 4
        }
      ]
    },
    {
      "cell_type": "code",
      "metadata": {
        "id": "1v4dEfRyfj74",
        "colab_type": "code",
        "colab": {
          "base_uri": "https://localhost:8080/",
          "height": 35
        },
        "outputId": "8a1befc4-5bcd-4f6e-c451-b71056e7c9bb"
      },
      "source": [
        "train[0].shape, test[0].shape"
      ],
      "execution_count": 7,
      "outputs": [
        {
          "output_type": "execute_result",
          "data": {
            "text/plain": [
              "((404, 13), (102, 13))"
            ]
          },
          "metadata": {
            "tags": []
          },
          "execution_count": 7
        }
      ]
    },
    {
      "cell_type": "code",
      "metadata": {
        "id": "4d9dKmmHfrtE",
        "colab_type": "code",
        "colab": {}
      },
      "source": [
        "# 学習用データセット\n",
        "x_train = np.array(train[0], np.float32)\n",
        "t_train = np.array(train[1], np.int32)\n",
        "\n",
        "# テスト用データセット\n",
        "x_test = np.array(test[0], np.float32)\n",
        "t_test = np.array(test[1], np.uint32)"
      ],
      "execution_count": 9,
      "outputs": []
    },
    {
      "cell_type": "code",
      "metadata": {
        "id": "JvxGFLNAjr_x",
        "colab_type": "code",
        "colab": {
          "base_uri": "https://localhost:8080/",
          "height": 35
        },
        "outputId": "88a59af6-b2d7-4c03-8da7-cf026ce4bf66"
      },
      "source": [
        "x_train.dtype, x_train.shape"
      ],
      "execution_count": 10,
      "outputs": [
        {
          "output_type": "execute_result",
          "data": {
            "text/plain": [
              "(dtype('float32'), (404, 13))"
            ]
          },
          "metadata": {
            "tags": []
          },
          "execution_count": 10
        }
      ]
    },
    {
      "cell_type": "code",
      "metadata": {
        "id": "o1oKRw8ej3jl",
        "colab_type": "code",
        "colab": {
          "base_uri": "https://localhost:8080/",
          "height": 35
        },
        "outputId": "acef188b-eb73-4ff6-a0f5-c05536ad1848"
      },
      "source": [
        "x_test.dtype, x_test.shape\n"
      ],
      "execution_count": 11,
      "outputs": [
        {
          "output_type": "execute_result",
          "data": {
            "text/plain": [
              "(dtype('float32'), (102, 13))"
            ]
          },
          "metadata": {
            "tags": []
          },
          "execution_count": 11
        }
      ]
    },
    {
      "cell_type": "code",
      "metadata": {
        "id": "h8S1-XhTj5r2",
        "colab_type": "code",
        "colab": {}
      },
      "source": [
        "import os, random\n",
        "\n",
        "def reset_seed(seed=0):\n",
        "    os.environ['PYTHONHASHSEED'] = '0'\n",
        "    random.seed(seed)\n",
        "    np.random.seed(seed)\n",
        "    tf.random.set_seed(seed)"
      ],
      "execution_count": 12,
      "outputs": []
    },
    {
      "cell_type": "code",
      "metadata": {
        "id": "vOkyMOyukG_b",
        "colab_type": "code",
        "colab": {}
      },
      "source": [
        "reset_seed(0)\n",
        "\n",
        "# モデルの定義\n",
        "model = tf.keras.models.Sequential([\n",
        "                                    tf.keras.layers.Dense(32, activation='relu', input_shape=(13, )),\n",
        "                                    tf.keras.layers.Dense(1),\n",
        "])\n",
        "\n",
        "# モデルのコンパイル\n",
        "model.compile(optimizer='adam', \n",
        "              loss='mse',\n",
        "              metrics=['mae'])"
      ],
      "execution_count": 15,
      "outputs": []
    },
    {
      "cell_type": "code",
      "metadata": {
        "id": "FSE7uzGTk625",
        "colab_type": "code",
        "colab": {
          "base_uri": "https://localhost:8080/",
          "height": 235
        },
        "outputId": "c2b4f705-36d4-4671-d191-3abfb17ac608"
      },
      "source": [
        "# モデル構造の確認\n",
        "model.summary()"
      ],
      "execution_count": 16,
      "outputs": [
        {
          "output_type": "stream",
          "text": [
            "Model: \"sequential\"\n",
            "_________________________________________________________________\n",
            "Layer (type)                 Output Shape              Param #   \n",
            "=================================================================\n",
            "dense (Dense)                (None, 32)                448       \n",
            "_________________________________________________________________\n",
            "dense_1 (Dense)              (None, 1)                 33        \n",
            "=================================================================\n",
            "Total params: 481\n",
            "Trainable params: 481\n",
            "Non-trainable params: 0\n",
            "_________________________________________________________________\n"
          ],
          "name": "stdout"
        }
      ]
    },
    {
      "cell_type": "code",
      "metadata": {
        "id": "B4aEPg0YlIrr",
        "colab_type": "code",
        "colab": {
          "base_uri": "https://localhost:8080/",
          "height": 272
        },
        "outputId": "fd4280a7-3345-493b-a02c-5dbb2fd2beb2"
      },
      "source": [
        "# モデル構造の可視化\n",
        "tf.keras.utils.plot_model(model)"
      ],
      "execution_count": 17,
      "outputs": [
        {
          "output_type": "execute_result",
          "data": {
            "image/png": "[encoded data removed]",
            "text/plain": [
              "<IPython.core.display.Image object>"
            ]
          },
          "metadata": {
            "tags": []
          },
          "execution_count": 17
        }
      ]
    },
    {
      "cell_type": "code",
      "metadata": {
        "id": "os01rWfnluNa",
        "colab_type": "code",
        "colab": {
          "base_uri": "https://localhost:8080/",
          "height": 1000
        },
        "outputId": "69856430-6326-4fa6-da2f-67b9edfd62a3"
      },
      "source": [
        "# モデルの学習\n",
        "history = model.fit(x_train, t_train,\n",
        "                    epochs=30,\n",
        "                    batch_size=32,\n",
        "                    validation_data=(x_test, t_test))"
      ],
      "execution_count": 18,
      "outputs": [
        {
          "output_type": "stream",
          "text": [
            "Epoch 1/30\n",
            "13/13 [==============================] - 0s 14ms/step - loss: 21222.6855 - mae: 138.6180 - val_loss: 13315.3262 - val_mae: 108.2218\n",
            "Epoch 2/30\n",
            "13/13 [==============================] - 0s 5ms/step - loss: 8216.6748 - mae: 82.8000 - val_loss: 4070.0105 - val_mae: 55.7379\n",
            "Epoch 3/30\n",
            "13/13 [==============================] - 0s 6ms/step - loss: 2241.2576 - mae: 39.3423 - val_loss: 985.7280 - val_mae: 25.3244\n",
            "Epoch 4/30\n",
            "13/13 [==============================] - 0s 4ms/step - loss: 606.8349 - mae: 20.6313 - val_loss: 499.1851 - val_mae: 19.3275\n",
            "Epoch 5/30\n",
            "13/13 [==============================] - 0s 4ms/step - loss: 440.2765 - mae: 17.9603 - val_loss: 451.2462 - val_mae: 17.8600\n",
            "Epoch 6/30\n",
            "13/13 [==============================] - 0s 4ms/step - loss: 382.6569 - mae: 16.4839 - val_loss: 366.1032 - val_mae: 16.0113\n",
            "Epoch 7/30\n",
            "13/13 [==============================] - 0s 4ms/step - loss: 305.7506 - mae: 14.8693 - val_loss: 290.7780 - val_mae: 14.2709\n",
            "Epoch 8/30\n",
            "13/13 [==============================] - 0s 4ms/step - loss: 241.6341 - mae: 13.4124 - val_loss: 239.0802 - val_mae: 12.8126\n",
            "Epoch 9/30\n",
            "13/13 [==============================] - 0s 4ms/step - loss: 191.4778 - mae: 11.9368 - val_loss: 187.1235 - val_mae: 11.1303\n",
            "Epoch 10/30\n",
            "13/13 [==============================] - 0s 4ms/step - loss: 140.0086 - mae: 9.9764 - val_loss: 128.0974 - val_mae: 8.9487\n",
            "Epoch 11/30\n",
            "13/13 [==============================] - 0s 4ms/step - loss: 94.7369 - mae: 8.0050 - val_loss: 92.8366 - val_mae: 7.5939\n",
            "Epoch 12/30\n",
            "13/13 [==============================] - 0s 4ms/step - loss: 76.5063 - mae: 7.0387 - val_loss: 80.5972 - val_mae: 6.9503\n",
            "Epoch 13/30\n",
            "13/13 [==============================] - 0s 4ms/step - loss: 68.0439 - mae: 6.4145 - val_loss: 76.2972 - val_mae: 6.7456\n",
            "Epoch 14/30\n",
            "13/13 [==============================] - 0s 4ms/step - loss: 65.5111 - mae: 6.2112 - val_loss: 74.5592 - val_mae: 6.6509\n",
            "Epoch 15/30\n",
            "13/13 [==============================] - 0s 5ms/step - loss: 63.8514 - mae: 6.0927 - val_loss: 73.1674 - val_mae: 6.5999\n",
            "Epoch 16/30\n",
            "13/13 [==============================] - 0s 4ms/step - loss: 62.7170 - mae: 6.0450 - val_loss: 71.9212 - val_mae: 6.5562\n",
            "Epoch 17/30\n",
            "13/13 [==============================] - 0s 4ms/step - loss: 61.8889 - mae: 5.9216 - val_loss: 71.8438 - val_mae: 6.5109\n",
            "Epoch 18/30\n",
            "13/13 [==============================] - 0s 4ms/step - loss: 61.7209 - mae: 6.0036 - val_loss: 69.8898 - val_mae: 6.4859\n",
            "Epoch 19/30\n",
            "13/13 [==============================] - 0s 5ms/step - loss: 60.9732 - mae: 5.8212 - val_loss: 70.9613 - val_mae: 6.4345\n",
            "Epoch 20/30\n",
            "13/13 [==============================] - 0s 5ms/step - loss: 59.3418 - mae: 5.7818 - val_loss: 68.4425 - val_mae: 6.4263\n",
            "Epoch 21/30\n",
            "13/13 [==============================] - 0s 4ms/step - loss: 58.8485 - mae: 5.8063 - val_loss: 68.2824 - val_mae: 6.3703\n",
            "Epoch 22/30\n",
            "13/13 [==============================] - 0s 4ms/step - loss: 58.3233 - mae: 5.7380 - val_loss: 67.3868 - val_mae: 6.3410\n",
            "Epoch 23/30\n",
            "13/13 [==============================] - 0s 4ms/step - loss: 57.7929 - mae: 5.6285 - val_loss: 67.3321 - val_mae: 6.3008\n",
            "Epoch 24/30\n",
            "13/13 [==============================] - 0s 4ms/step - loss: 57.3716 - mae: 5.6844 - val_loss: 66.0178 - val_mae: 6.2759\n",
            "Epoch 25/30\n",
            "13/13 [==============================] - 0s 4ms/step - loss: 56.6557 - mae: 5.5600 - val_loss: 66.1541 - val_mae: 6.2409\n",
            "Epoch 26/30\n",
            "13/13 [==============================] - 0s 5ms/step - loss: 56.0639 - mae: 5.5638 - val_loss: 64.5926 - val_mae: 6.2306\n",
            "Epoch 27/30\n",
            "13/13 [==============================] - 0s 4ms/step - loss: 55.6214 - mae: 5.5380 - val_loss: 64.0285 - val_mae: 6.1978\n",
            "Epoch 28/30\n",
            "13/13 [==============================] - 0s 4ms/step - loss: 55.0483 - mae: 5.5086 - val_loss: 63.5342 - val_mae: 6.1651\n",
            "Epoch 29/30\n",
            "13/13 [==============================] - 0s 4ms/step - loss: 55.0727 - mae: 5.3941 - val_loss: 63.6503 - val_mae: 6.1194\n",
            "Epoch 30/30\n",
            "13/13 [==============================] - 0s 4ms/step - loss: 54.0464 - mae: 5.4466 - val_loss: 62.3125 - val_mae: 6.1154\n"
          ],
          "name": "stdout"
        }
      ]
    },
    {
      "cell_type": "code",
      "metadata": {
        "id": "Jgi9_MKWmCQn",
        "colab_type": "code",
        "colab": {
          "base_uri": "https://localhost:8080/",
          "height": 54
        },
        "outputId": "722485ce-5de3-4658-e9a3-1aec64c2f7b5"
      },
      "source": [
        "# 学習済みモデルの評価\n",
        "score = model.evaluate(x_test, t_test)\n",
        "score"
      ],
      "execution_count": 19,
      "outputs": [
        {
          "output_type": "stream",
          "text": [
            "4/4 [==============================] - 0s 2ms/step - loss: 62.3125 - mae: 6.1154\n"
          ],
          "name": "stdout"
        },
        {
          "output_type": "execute_result",
          "data": {
            "text/plain": [
              "[62.312461853027344, 6.115375995635986]"
            ]
          },
          "metadata": {
            "tags": []
          },
          "execution_count": 19
        }
      ]
    },
    {
      "cell_type": "code",
      "metadata": {
        "id": "fd2hOFl2mHdN",
        "colab_type": "code",
        "colab": {
          "base_uri": "https://localhost:8080/",
          "height": 265
        },
        "outputId": "86c540d6-b88e-49b4-d303-01ab250e9169"
      },
      "source": [
        "# 結果の可視化\n",
        "result = pd.DataFrame(history.history)\n",
        "\n",
        "# 目的関数の可視化\n",
        "result[['loss', 'val_loss']].plot();"
      ],
      "execution_count": 20,
      "outputs": [
        {
          "output_type": "display_data",
          "data": {
            "image/png": "[encoded data removed]",
            "text/plain": [
              "<Figure size 432x288 with 1 Axes>"
            ]
          },
          "metadata": {
            "tags": [],
            "needs_background": "light"
          }
        }
      ]
    },
    {
      "cell_type": "code",
      "metadata": {
        "id": "GZy9usx3mPz8",
        "colab_type": "code",
        "colab": {
          "base_uri": "https://localhost:8080/",
          "height": 265
        },
        "outputId": "e8f3c1e8-f62e-465b-842b-9fab1a3251d4"
      },
      "source": [
        "# 評価指標の可視化\n",
        "result[['mae', 'val_mae']].plot();"
      ],
      "execution_count": 22,
      "outputs": [
        {
          "output_type": "display_data",
          "data": {
            "image/png": "[encoded data removed]",
            "text/plain": [
              "<Figure size 432x288 with 1 Axes>"
            ]
          },
          "metadata": {
            "tags": [],
            "needs_background": "light"
          }
        }
      ]
    },
    {
      "cell_type": "code",
      "metadata": {
        "id": "Ui81ZkgRmUwQ",
        "colab_type": "code",
        "colab": {}
      },
      "source": [
        ""
      ],
      "execution_count": null,
      "outputs": []
    }
  ]
}